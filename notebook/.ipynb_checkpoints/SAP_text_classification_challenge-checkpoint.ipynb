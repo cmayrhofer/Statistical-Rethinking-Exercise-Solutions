{
 "cells": [
  {
   "cell_type": "markdown",
   "metadata": {},
   "source": [
    "# SAP Text Classification Challenge\n",
    "\n",
    "\n",
    "## Problem statement\n",
    "```\n",
    "Which Novel Do I Belong To?\n",
    "\n",
    "In this task, you are expected to learn a Machine Learning model that classifies a given line as belonging to one of the following 12 novels:\n",
    "\n",
    "0: alice_in_wonderland\n",
    "1: dracula\n",
    "2: dubliners\n",
    "3: great_expectations\n",
    "4: hard_times\n",
    "5: huckleberry_finn\n",
    "6: les_miserable\n",
    "7: moby_dick\n",
    "8: oliver_twist\n",
    "9: peter_pan\n",
    "10: talw_of_two_cities\n",
    "11: tom_sawyer\n",
    "\n",
    "\n",
    "Description:\n",
    "\n",
    "You are provided with a zip file (offline_challenge.zip) containing three text files - xtrain.txt, ytrain.txt, xtest.txt. Each line in xtrain.txt and xtest.txt comes from a different novel. The data has been obfuscated, however the patterns in them are preserved. The novel ids corresponding to xtrain.txt are specified in ytrain.txt. You can use these labels to train a Machine Learning model (Deep Learning preferred).\n",
    "\n",
    "With the learned model, predict the novel ids of the lines in xtest.txt (one prediction per line). As part of your submission, include\n",
    "\n",
    "a) your predictions (in the same format as ytrain.txt)\n",
    "b) Expected accuracy on the test set\n",
    "c) the source code for training and prediction (< 10MB)\n",
    "d) a brief description of your method (optional)\n",
    "```\n",
    "\n",
    "## Summary of My Approach and Result\n",
    "\n",
    "* Insights after EDA of the train set:\n",
    "    - the 12 classes are unequally represented (ratio of biggest to smallest corpus is one to ten)\n",
    "    - length of the character samples is always even\n",
    "    \n",
    "* Before trying out a deep NN approach, we build a simple baseline model.\n",
    "    - As features for the model we used the (scaled) frequency of the characters and the (scaled) character sequence length. (Unfortunately, without obvious word separators, fastText wasn't a viable baseline option)\n",
    "    - Since there wasn't a single odd character sequence, we wondered whether the information is perhaps encoded in character pairs. Therefore, we redid the classification based on frequencies with character pairs. This turned out to be substantially better than on characters, ending up with an accuracy of around 60%.\n",
    "    \n",
    "* Next we turned to deep learning approaches. Since we don't have actual words, it isn't possible to use transfer learning and we have to train our models from scratch. Furthermore, in the deep language model context, I'm only familiar with BERT (which is not applicable here). Hence, the code piece used for the character-level CNN, RNN (LSTM), and Embedding Bag model are modified code snippets from the pytorch docs and github repos.\n",
    "    - Both, character-level CNN and character-level RNN (LSTM), should be able to pick up on the information given in the sentences, even when obfuscated.\n",
    "    - However, due to my unfamiliarity with both I wasn't able to bring them to an satisfactory level. With RNN I ran into the familiar problem with exploding gradients. When changing to LSTMs which solve this problems, I ran into technical issues which I couldn't resolve due to time constraints. In case of CNNs, I only could run them on characters but not character-pairs. The best result which I could reach there was around 35% in accuracy.\n",
    "    - Given the limited time, the Embbeding Bag approach turned out to be the most fruitful one. Although I could reached 55% in accuracy by using character-pair embedding. I wasn't able to beat the 60% of my baseline with `xgboost`.\n",
    "    \n",
    "* To reproduce the results please run the respective cells below\n",
    "\n",
    "### Would-be Next Steps\n",
    "* Get the LSTM to work\n",
    "* Try my own CNN architecture and work with character-pairs"
   ]
  },
  {
   "cell_type": "markdown",
   "metadata": {},
   "source": [
    "## The Actual Work"
   ]
  },
  {
   "cell_type": "markdown",
   "metadata": {},
   "source": [
    "### Inspection of Data"
   ]
  },
  {
   "cell_type": "code",
   "execution_count": 1,
   "metadata": {},
   "outputs": [
    {
     "name": "stdout",
     "output_type": "stream",
     "text": [
      "total 21M\r\n",
      "drwxrwxr-x  2 docker docker 4.0K Sep 24 13:04 .\r\n",
      "drwxrwxr-x 13 docker docker 4.0K Sep 25 07:19 ..\r\n",
      "-rw-rw-r--  1 docker docker    0 Sep 21 14:29 .gitkeep\r\n",
      "-rw-r--r--  1 docker docker 4.3M Sep 24 13:04 train.csv\r\n",
      "-rw-r--r--  1 docker docker 2.1M Sep 24 13:04 valid.csv\r\n",
      "-rw-r--r--  1 docker docker 1.2M Jul 19  2017 xtest_obfuscated.txt\r\n",
      "-rw-r--r--  1 docker docker  13M Jul 19  2017 xtrain_obfuscated.txt\r\n",
      "-rw-r--r--  1 docker docker  68K Jul 19  2017 ytrain.txt\r\n"
     ]
    }
   ],
   "source": [
    "!ls -lha ../data/"
   ]
  },
  {
   "cell_type": "code",
   "execution_count": 2,
   "metadata": {},
   "outputs": [
    {
     "name": "stdout",
     "output_type": "stream",
     "text": [
      "==> ../data/train.csv <==\r\n",
      "0,enuhtwskenezuhsaiwulvienulqvvimvuhpmamdfuhqgsalekrbruhtwamuluhpmuluhlrvimvvilekruluhqgsktwezmveniwypcitwuhlrvimvtwuhtwamuluhijoavitwiwpmulxykguhskvienuhqggzkruheztwamuluhsktwskskenuhvitwamuluhskvienuh\r\n",
      "6,ulenamuluhezmvamuhpmuluhsktwypvikrpmvivienuhtwleulmvpmvivipmyptwleuhpmuluhsktwamypulengzqvtwskuhvitwtwtvuhskenamuhpmamdfuhqvletwypmvxexepmuhpkvipmmvqvkriwiwmvuhtwvipmuhulqvpmiwuhtwamuhqglrvimvvilepmez\r\n",
      "3,satvuhskiwtwamuhsaiwtwiwpmqvuhqvmvuhultwleyptwqvuhtwamuluhskvienuhqgqvvipmmvulenulyptwgzcitwuhlekrpmsauhtwmkmvletwskuhkrpmsauhezpmamdfuhezpmlexeuhvipmqvletwgzuhtwamuluhqvmvuhvipmqvletwgzuhulenamguuhra\r\n",
      "8,twamuluhvwskiwkrpmypvwuhulenamokuhuhrasaleenvimvsklepmenleulcitwuhsaletwmkuhqvendfuhulmvuhtwlekrqvuhtwtvuhpmuluhskviskuhuhraulenpmypulqvmvendfuhtwulmvamdfuhtwamuluhvimvuhvieneztwiwulvitwlruhtwamuluhsk\r\n",
      "10,letwamuhvienamuluhiwenkrulmvlemvgzqvuhqvletwululenezuhpmuluhqvenuhtwiwpmamdfuhtwamuluhvipmuhsktwlekrpmmkenxeuhqvqvtwiwuhqgtwypvienleuyuhtwvieniwbhucyppmeeuhtwamuluhxepmuhqvvitwucypmvamypuhtwamuluhxepm\r\n",
      "\r\n",
      "==> ../data/valid.csv <==\r\n",
      "7,ohskmvenqvuhtwamuhulenamuluhqvijulenamokuhraqvletwamulenxeuhiwenulmvmkuhxepmuhxexekrulqvuhiwenulmvmkuhulqvpmezuhtwamuluhxepmuhtwskenezuhvitwezuhxepmuhqvtwmkmviwuhtwamuluhulqveniwulkrpmuhqvtwtwleuluhsk\r\n",
      "10,skvienuhqgulmvuhxexepmuhulqvkrskuhtwamuluhlrvimvdfpmiwtvuhskvienuhqgxetwmvamypletwucskvienamuhletwamuhxepmuhqvskvitwuhtwamuluhamulmvdfuhgzkruhulmvuhlrvimvamypkrpmuluhskvienuhqgqvlemvenulqvbhgzkruhtwez\r\n",
      "10,twamuhtwiwmvamdfuhsaiwvipmuhqgskvienamuhulxetwiwuhqvmvamuhamulmvdfuhletwiwxexekrezuhqvmvamuluhsktwmkpmezuhtwamuhqgucvimvleskuhlepmxeuhsktwgzgzpmulqvuhtwamuhvitwamokuhraqvtwtwviucuhqvijletwleentwdfuhtw\r\n",
      "6,ulpmviuhqvendfuhamypmvamdfuhqgleentwuluhenuhlrvikramuhamypmvamdfuhvimvuhqgqvtwsatwuhulentwlelruhletwamuhsktwqvmvenleuhskiwmvamypuhtwamguuhdsraqvtwmkiwtwqveztwamuluhtwqvkrezenuhsatwamuluhpksaeniwgzuhsa\r\n",
      "1,pmuluhqvenuhpmqvuhpksaypviensapmkrtvuhskiwpmuhqvmvamuhxepmuhlrvimvamultwezpmqvuhletwmkpmyptwleuhpmuluhlrvimvvivimvlrtwtvuhqvmvuhlekramulleskuhulenamuluhleentwamuhiguhezmvamuhezpmlexeuhskvienuhqgpmpmul\r\n",
      "\r\n",
      "==> ../data/xtest_obfuscated.txt <==\r\n",
      "tvletwgzkrqvuhtwamuluhpkskpmpmiwtvuhamqvmviwlrvikquhtwamuluhqgvipmmvulkriwpmqvtwleuhamqvmviwlrvikquhtwamuluhqgqvqvtwviezlemvxeuhamqvmviwlrvikquhtwamuluhpkskvieniwlrvikquhqvmvuhqgpmpmiwletwulenokuhxepmuhtwiwululentvuhtwamuluhvimvuhsktwlemvezskenuhtwtvuhulqvkrezuhamypmvamdfuhulenamguuhraskvipmyptwqvuhtwamuluhxepmuhvimvenulgzenypuhenuhsatvuhvipmdfuhqgletwsklepmuhulqvlemvxeuhtwamuluhxepmuhtwiwululentvuhenuhqvmvuhpmpmiwletwulenok\r\n",
      "qvmvuhskleenmvviengzxyuhqvmvamguuhrakrpmsauhulyptwulpmlegzuhskigbhbhkrpmsauhulyptwulpmlegzuhskigbhbhpmfquhraskiwlepmdfuhtwamuluhiwiwenuhlepmxeuhskentwamuhlekrpmsauhxepmuhlemvenamuhenuhullekramuhulviskiwkrpmdfuhiguhratwezuhxepmuhskmvenlexeenuhtwtvuhulvipmskuhqgsapmtvuhsaqjuhraletwskvikriwtvuhletwulxeenuhletwskvikriwtvuhtwskenezuhtwamuhskvienuhezmvamuhvipmgzkruhqvendfuhtwsatwuhqvvienezuhskiwpmuhtwamuluhulkrtv\r\n",
      "twamuhulenamuluhskvienuhqgdftwmvmkletwulvimvuhvienuhqvtwypvitwgzcimvqvuhvitwtwulxemvxeuhulenuhgzentwamypuhtwypvienulvimvenkrszypenuhqvmvamuhsktwletwskmvqvvipmypuhtwamuhulenamuluhsaviengzezpmypuhtwamuluhsktwlekrqvqvenuhqgulamlrmvqvuhxepmuhulkrpmuhtwletwdfuhsatwamuluhiwiwmvuluhqvulpmpmtvuhskvienuhqvlrtwiwuhqvmvamuhvipmuhqvtwypvieniwlruhlrvimvlemvezskenuhqvkrpmletwezkrviuhlrvimvdfpmulqvtwtvuhqglrvimviwulmvameeuhraleqj\r\n",
      "sooatwqvvitwqvvipmviuhoaampmpmmwuhuhraulvikrpmypypenuhulenamuluhvipmuhsaypletwezuhpmuluhsktwskvitwezezpmyptwleuhulsoviqvendfuhtwamuhpkqvtwezmvuluhcimvqvuhletwmktwxeuhenuhskenamuhskenamuhtwlpuhuhraletwulqvenezuhqvmvamuhlrvimvletwsklekrezuhlepmxeuhenypmvenezencguhvimvuhlrvikramuhqvendfuhpmamdfuhvienezuhenuhdftwviucuhiguhuhohamtwuhqgsatwamuluhulsovitwmkenamuhpkqvtwezmvultwezpmqvuhqvletwmktwxe\r\n",
      "lepmuhpmdfuluhtwletwdfuhtwletwamguuhuhraezpmpmleuhtwamuluhpmulvimvuhezmvamuhskvienuhqvtwmkiwtwqveztwamuluhsktwulenkrvimvqvvimvuhsaiwiwenkrskenlelruhqgqvletwskiwmvameeuhraleqjuhpmuluhskvienuhletwamulpmvienuhtwvipmuhpmuluhqvtwypmvpmmkuhdfpmiwuhvimvuhlrvimvuciwenuluhqgulkrpmtvenuhlrvimvskvienulqvuhezpmlexeuhqgskvienuhqgsktwletwulleenkrszuhtwletwdfuhsatwamuluhtwletwamdfuhqgqvvipmmvlrtwleuhletwgzgzkruhtwamuluhezpmlexeuhletwamultwlrpmul\r\n",
      "\r\n",
      "==> ../data/xtrain_obfuscated.txt <==\r\n",
      "satwamuluhqgulamlrmvezuhqvkrpmletwulcitwskuhlemvtwamuluhiwiwenuhlrvimvqvkruhulenamuluhqgqvtwvimviwuhtwamuluhulqvkrenamcitwuhvipmpmqvuhskiwkrpmdfuhlrvimvskvikrpmqvuhskmvgzenleuhqvmvamuluhulenamuluhqvletwtwvipmpmgzleenamuhtwamuluhtwletwdfuhiwkrxeleentwxeuhpmqvuhtwiwmvamdfuhpkeztwamuluhvimvuhqvtwmkpmpmlelruhgztwtwskuhtwlrkrpmlruhpmuluhqvenuhtwyplepmxeuhenuhamypkrqvuhamulmvdfuhqvskentwamletwlrlrpmiwuhtwamul\r\n",
      "twmkiwpmqvtwleuhsaiwsktwmvlelekramuhqvkruhtwskenezuhskvienuhqgulvienulqvvimvuhvienuhvimvuhulyptwbrtvkrqvuhtwamuluhsktwlrvienamypuhqvmvamguuhvgoaulamlrmvvibhpmuluhqvijulmvnkuhqgskkrpmiwenuhsktwskskenuhsaiwmvleenulvikriwpmmkvimvuhiguhvgqgulleentwamuhsaezuhqvqvtwiwtvuhskvisknkuhravidfpmvitwleuhvienmvypqvpmjeuhxepmuhlekrtwulenezenuhiwenmvypvimvmkpmlegzuhsktwulenletvtwiwtwypuhtwamuluhpmul\r\n",
      "vidfpmskuhvilepmuluhtwtvuhulsovienamqvuhskiwmvamypuhtwamulsouhqgvienezuhtwamuluhamulmvdfuhsaiwulvitwiwpmmvmkuhlrvimviwlrlrkrleulqvuhqgiwlemvlruhtwamuluhsktwezentwleypqvuhsoqgulenamuluhlepmxeuhtwleenypuhulsovipmskuhiguhqgiwiwmvdfuhqgulenamuluhlepmxeuhtwleenypuhulsovipmskuhigsouhulqvvimvenlrenuhskentwamuhlekrpmsauhulmviwgzqvuhiwiwsoiguhlepmuhqgtwezuhezpmlexeuhxexepmuhskvienulxysouhuhragzqvenlelruhqvsoiwlemvlruhtwamul\r\n",
      "raskleenkrlruhtwulenleengztwqvuhenuhsatvuhsktwskvikrpmlelekrqvuhsktwuciwendfuhamypentwuhskvienuhqgulleengzenuhulgztwucuhtwletwdfuhpmdfuluhtwamguuhralrvimvezpmypuhtwleenuhkrpmsauhdfpmviucuhsatwamulnkuhpkulypmvmkvipmypuhsaezuhpmuluhulvientwlrletwqvuhtwamuluhskmvenqvuhvgqgskleenpmtvuhvipmuhsktwulyptwgzcitwuhtwleenuhkrpmrbnkuhraleentwuhsaezuhtwskmvqvvimvuhlrvimvamultwezpmqvuhulqvlekrtvuhpmuluhsktweztwtwqvuhulenamuluhskvikrpmqv\r\n",
      "dfenqvuhtwamqvuhqgtwiwtvenuluhqvijletwamulenxeuhletwamuhleentwviuhvidfpmskuhulenqvuhtwamqvuhvitwamdfuhskvienuhpkvidfpmultwucpmeeuhqvskleendfpmuluhsktwucpmpmiwuhdfpmskvimvdfuhskuhuhralrvimvvilepmezuhsktwulvimvpmgzgzenuhtwamuluhvipmuhsktwlemvengztwleuhenqvmvkrpmxzuhpkskmviwbhvimvxexepmypuhenuhvipmgzkruhgzenleuhenuhtwucmviwuhulentwtvuhenuhamulmvdfuhskvipmyptwqvuhsaletwmktwuhsktwlekrqventwezuhamypmvamdfuhqgulmvuhvimv\r\n",
      "\r\n",
      "==> ../data/ytrain.txt <==\r\n",
      "7\r\n",
      "3\r\n",
      "8\r\n",
      "3\r\n",
      "4\r\n"
     ]
    }
   ],
   "source": [
    "!head -n5 ../data/*"
   ]
  },
  {
   "cell_type": "code",
   "execution_count": 3,
   "metadata": {},
   "outputs": [],
   "source": [
    "# imports\n",
    "import pandas as pd\n",
    "import numpy as np"
   ]
  },
  {
   "cell_type": "code",
   "execution_count": 4,
   "metadata": {},
   "outputs": [],
   "source": [
    "train_data = pd.read_csv('../data/xtrain_obfuscated.txt', header=None)[0].values\n",
    "train_labels = pd.read_csv('../data/ytrain.txt', header=None)[0].values\n",
    "\n",
    "test_data = pd.read_csv('../data/xtest_obfuscated.txt', header=None)[0].values"
   ]
  },
  {
   "cell_type": "code",
   "execution_count": 5,
   "metadata": {},
   "outputs": [
    {
     "data": {
      "text/plain": [
       "array(['satwamuluhqgulamlrmvezuhqvkrpmletwulcitwskuhlemvtwamuluhiwiwenuhlrvimvqvkruhulenamuluhqgqvtwvimviwuhtwamuluhulqvkrenamcitwuhvipmpmqvuhskiwkrpmdfuhlrvimvskvikrpmqvuhskmvgzenleuhqvmvamuluhulenamuluhqvletwtwvipmpmgzleenamuhtwamuluhtwletwdfuhiwkrxeleentwxeuhpmqvuhtwiwmvamdfuhpkeztwamuluhvimvuhqvtwmkpmpmlelruhgztwtwskuhtwlrkrpmlruhpmuluhqvenuhtwyplepmxeuhenuhamypkrqvuhamulmvdfuhqvskentwamletwlrlrpmiwuhtwamul',\n",
       "       'twmkiwpmqvtwleuhsaiwsktwmvlelekramuhqvkruhtwskenezuhskvienuhqgulvienulqvvimvuhvienuhvimvuhulyptwbrtvkrqvuhtwamuluhsktwlrvienamypuhqvmvamguuhvgoaulamlrmvvibhpmuluhqvijulmvnkuhqgskkrpmiwenuhsktwskskenuhsaiwmvleenulvikriwpmmkvimvuhiguhvgqgulleentwamuhsaezuhqvqvtwiwtvuhskvisknkuhravidfpmvitwleuhvienmvypqvpmjeuhxepmuhlekrtwulenezenuhiwenmvypvimvmkpmlegzuhsktwulenletvtwiwtwypuhtwamuluhpmul',\n",
       "       'vidfpmskuhvilepmuluhtwtvuhulsovienamqvuhskiwmvamypuhtwamulsouhqgvienezuhtwamuluhamulmvdfuhsaiwulvitwiwpmmvmkuhlrvimviwlrlrkrleulqvuhqgiwlemvlruhtwamuluhsktwezentwleypqvuhsoqgulenamuluhlepmxeuhtwleenypuhulsovipmskuhiguhqgiwiwmvdfuhqgulenamuluhlepmxeuhtwleenypuhulsovipmskuhigsouhulqvvimvenlrenuhskentwamuhlekrpmsauhulmviwgzqvuhiwiwsoiguhlepmuhqgtwezuhezpmlexeuhxexepmuhskvienulxysouhuhragzqvenlelruhqvsoiwlemvlruhtwamul',\n",
       "       ...,\n",
       "       'qvmvamuhleentwtvuhpmuluhskvienuhqgtwxemviwuhqvijvitwonmvulmvypuhenuhtwmkenqvuhpmuluhqgucypentvuhtwezpmypuhskenamuhtwlpuhratwypvitwqvtvenuhqvmvamuhsatvuhsktwletwlrvienskvitwuhqvendfuhtwxemviwuhqvmvamuhulenamuluhsktwulvitwqvtwlegztwleuhpmamdfuhqgvitwonmvulmvypuhamypvitwleuyuhenuhxepmuhsaulentwleulvitwuhvitwululmvledfuhskvienuhlrvimvqvqvtwlegzuhtwamuluhvipmuhqgskmvskuhtwamuhvitwamdfuhsktwvilekrultwleuhskenamuhtwlp',\n",
       "       'ralrvimvamypenpmlegzgzenuhqvendfuhgztwulqvuhtwamguuhralrvimvvitwmktwuhlrvimvsktwyptwlegzuhtwamuluhvipmuhqvlemvenulqvuhtwamuluhsktwskvitwypqvenuhskenamuhamypmvamdfuhgztwulqvulpmpmxeuhtwvimviwkrypqvenezuhtwezenqvuhtwamuluhskleentwamuhtwamuhvitwamuluhqglepmskmvlelepmypuhtwamuluhxepmuhskvitwuhtwamuluhulenuhypmvululenuhtwezpmqvuhvipmuhsktwvitwgzpmuhamypmvamdfuhlepmpmskuhenuhxepmuhlrvimvucentwleypuhtwamuluhsatvuhsktwvitwucendfen',\n",
       "       'twiwtvenvipmmvulqvtwkrszuhqvmvamuhsktwmktwmvamypenuhskenamuhtwiwqvgzpmokuhraleqjuhtwletwamdfuhtwleulentwamuluhtwamguuhrasaeniwgzuhtwamuluhpmuluhpmlruhqvskleendfletwulxeenuhskiwkrpmdfuhiguhulamlrkrpmamuluhiguhqgtwiwgzeztwguuhtwamuluhpmuluhtwezpmamuhulvitwdfuhiguhxemvuhtwezuhtwlepmxetwtvuhtwskkrulmviwpmqvuhskvienuhvipmmvulyptwbrtwskuhxepmuhqvlekrpmamuhskenamuhiguhqvenuhskvienuhpktwypvipmuhulenuhletwvivimvskuhamulmvdfuhxeiwtwqvsaez'],\n",
       "      dtype=object)"
      ]
     },
     "execution_count": 5,
     "metadata": {},
     "output_type": "execute_result"
    }
   ],
   "source": [
    "train_data"
   ]
  },
  {
   "cell_type": "code",
   "execution_count": 6,
   "metadata": {},
   "outputs": [
    {
     "data": {
      "text/plain": [
       "array([ 7,  3,  8, ..., 10,  6,  3])"
      ]
     },
     "execution_count": 6,
     "metadata": {},
     "output_type": "execute_result"
    }
   ],
   "source": [
    "train_labels"
   ]
  },
  {
   "cell_type": "code",
   "execution_count": 7,
   "metadata": {},
   "outputs": [
    {
     "data": {
      "text/plain": [
       "{0: 543,\n",
       " 1: 3459,\n",
       " 2: 1471,\n",
       " 3: 4023,\n",
       " 4: 2337,\n",
       " 5: 2283,\n",
       " 6: 4226,\n",
       " 7: 5097,\n",
       " 8: 3634,\n",
       " 9: 980,\n",
       " 10: 3052,\n",
       " 11: 1408}"
      ]
     },
     "execution_count": 7,
     "metadata": {},
     "output_type": "execute_result"
    }
   ],
   "source": [
    "class_distribution = dict(zip(*np.unique(train_labels, return_counts=True)))\n",
    "class_distribution"
   ]
  },
  {
   "cell_type": "code",
   "execution_count": 8,
   "metadata": {},
   "outputs": [
    {
     "data": {
      "text/plain": [
       "2"
      ]
     },
     "execution_count": 8,
     "metadata": {},
     "output_type": "execute_result"
    }
   ],
   "source": [
    "np.gcd.reduce([len(x) for x in np.hstack((train_data, test_data))])"
   ]
  },
  {
   "cell_type": "code",
   "execution_count": 9,
   "metadata": {},
   "outputs": [
    {
     "data": {
      "text/plain": [
       "count                                                 35513\n",
       "unique                                                35513\n",
       "top       qglrvimvlemvgzqvenuhamlrmvamuhqgamyvuhoaletwdf...\n",
       "freq                                                      1\n",
       "dtype: object"
      ]
     },
     "execution_count": 9,
     "metadata": {},
     "output_type": "execute_result"
    }
   ],
   "source": [
    "s = pd.Series(np.hstack((train_data, test_data)))\n",
    "s.describe()"
   ]
  },
  {
   "cell_type": "code",
   "execution_count": 10,
   "metadata": {},
   "outputs": [
    {
     "data": {
      "text/plain": [
       "count    32513.000000\n",
       "mean       413.389352\n",
       "std         15.017002\n",
       "min        168.000000\n",
       "25%        408.000000\n",
       "50%        416.000000\n",
       "75%        424.000000\n",
       "max        452.000000\n",
       "dtype: float64"
      ]
     },
     "execution_count": 10,
     "metadata": {},
     "output_type": "execute_result"
    }
   ],
   "source": [
    "s = pd.Series([len(x) for x in train_data])\n",
    "s.describe()"
   ]
  },
  {
   "cell_type": "code",
   "execution_count": 11,
   "metadata": {},
   "outputs": [],
   "source": [
    "max_sentence_length = s.describe()['max']"
   ]
  },
  {
   "cell_type": "code",
   "execution_count": 12,
   "metadata": {},
   "outputs": [
    {
     "data": {
      "text/plain": [
       "count    3000.000000\n",
       "mean      413.350667\n",
       "std        16.367315\n",
       "min        72.000000\n",
       "25%       408.000000\n",
       "50%       416.000000\n",
       "75%       424.000000\n",
       "max       448.000000\n",
       "dtype: float64"
      ]
     },
     "execution_count": 12,
     "metadata": {},
     "output_type": "execute_result"
    }
   ],
   "source": [
    "s = pd.Series([len(x) for x in test_data])\n",
    "s.describe()"
   ]
  },
  {
   "cell_type": "markdown",
   "metadata": {},
   "source": [
    "## Naïve Model / Baseline Model"
   ]
  },
  {
   "cell_type": "code",
   "execution_count": 13,
   "metadata": {},
   "outputs": [],
   "source": [
    "from sklearn.model_selection import KFold, cross_val_score, cross_validate\n",
    "from collections import Counter"
   ]
  },
  {
   "cell_type": "code",
   "execution_count": 14,
   "metadata": {},
   "outputs": [],
   "source": [
    "import string\n",
    "\n",
    "def character_count(s: string) -> list:\n",
    "    count = Counter(s)\n",
    "    return [count[l] for l in string.ascii_lowercase[:26]]"
   ]
  },
  {
   "cell_type": "code",
   "execution_count": 15,
   "metadata": {},
   "outputs": [],
   "source": [
    "train_data_cc = np.array(\n",
    "    [character_count(datum) for datum in train_data]\n",
    ")"
   ]
  },
  {
   "cell_type": "code",
   "execution_count": 16,
   "metadata": {},
   "outputs": [],
   "source": [
    "train_data_cc_scaled = np.multiply(\n",
    "    1 / np.sum(train_data_cc, axis=1), train_data_cc.T\n",
    ").T"
   ]
  },
  {
   "cell_type": "code",
   "execution_count": 17,
   "metadata": {},
   "outputs": [],
   "source": [
    "train_data_cc_scaled = np.vstack(\n",
    "    (\n",
    "        train_data_cc_scaled.T,\n",
    "        np.sum(train_data_cc, axis=1) / max_sentence_length\n",
    "    )\n",
    ").T"
   ]
  },
  {
   "cell_type": "code",
   "execution_count": 19,
   "metadata": {},
   "outputs": [
    {
     "name": "stdout",
     "output_type": "stream",
     "text": [
      "{'fit_time': array([26.81287885, 27.2951386 , 27.08031058, 28.42026544, 46.02161407,\n",
      "       32.88086009, 32.33731484, 30.79939771, 33.74606967, 31.8843894 ]), 'score_time': array([0.12062263, 0.11717463, 0.11736608, 0.20314169, 0.12583208,\n",
      "       0.13158917, 0.13236332, 0.13455319, 0.12441754, 0.13173556]), 'test_precision_macro': array([0.401438  , 0.38090671, 0.3745211 , 0.36786108, 0.38957467,\n",
      "       0.37361898, 0.36451369, 0.36045979, 0.35139303, 0.36840286]), 'test_recall_macro': array([0.33451716, 0.33583023, 0.32377269, 0.33253618, 0.32658816,\n",
      "       0.33290097, 0.32300471, 0.32657898, 0.30980125, 0.3236686 ]), 'test_f1_macro': array([0.34559895, 0.34559668, 0.33396055, 0.33585365, 0.33733372,\n",
      "       0.34033878, 0.33013718, 0.33103353, 0.31754631, 0.33417276]), 'test_accuracy': array([0.39298893, 0.39421894, 0.37423124, 0.3949554 , 0.37988311,\n",
      "       0.39218702, 0.38295909, 0.38726546, 0.37096278, 0.37373116])}\n"
     ]
    }
   ],
   "source": [
    "from sklearn.naive_bayes import MultinomialNB, ComplementNB, GaussianNB\n",
    "from sklearn.ensemble import AdaBoostClassifier, GradientBoostingClassifier\n",
    "from xgboost import XGBClassifier\n",
    "from sklearn import metrics\n",
    "\n",
    "priors = [\n",
    "    class_distribution[i] / sum(class_distribution.values())\n",
    "    for i in range(len(class_distribution))\n",
    "]\n",
    "\n",
    "# clf = GaussianNB(priors=priors)\n",
    "# clf = ComplementNB(class_prior=priors)\n",
    "# clf = MultinomialNB(class_prior=priors)\n",
    "# clf = AdaBoostClassifier()\n",
    "# clf = GradientBoostingClassifier()\n",
    "clf = XGBClassifier()\n",
    "\n",
    "scores = cross_validate(\n",
    "    clf, train_data_cc_scaled, train_labels, cv=10,\n",
    "    scoring=['precision_macro', 'recall_macro', 'f1_macro', 'accuracy']\n",
    ")\n",
    "\n",
    "print(scores)"
   ]
  },
  {
   "cell_type": "markdown",
   "metadata": {},
   "source": [
    "### Naïve Model / Baseline Model but now taking GCD being 2 into account"
   ]
  },
  {
   "cell_type": "code",
   "execution_count": 20,
   "metadata": {},
   "outputs": [],
   "source": [
    "def pair_count(s: string) -> list:\n",
    "    pairs = [s[2 * i: 2 * (i + 1)] for i in range(len(s)//2)]\n",
    "    return Counter(pairs)\n",
    "\n",
    "def pair_count_ordered(s: string, unique_pairs: list) -> list:\n",
    "    pair_counts = pair_count(s)\n",
    "    return [pair_counts[pair] for pair in unique_pairs]"
   ]
  },
  {
   "cell_type": "code",
   "execution_count": 21,
   "metadata": {},
   "outputs": [
    {
     "data": {
      "text/plain": [
       "Counter({'ku': 2, 'fd': 1, 'sl': 1, 'iu': 1, 'hf': 1})"
      ]
     },
     "execution_count": 21,
     "metadata": {},
     "output_type": "execute_result"
    }
   ],
   "source": [
    "pair_count('kufdsliuhfku')"
   ]
  },
  {
   "cell_type": "code",
   "execution_count": 22,
   "metadata": {},
   "outputs": [
    {
     "name": "stdout",
     "output_type": "stream",
     "text": [
      "Number of unique pairs in train set: 105\n",
      "Number of unique pairs in total set: 105\n"
     ]
    }
   ],
   "source": [
    "total_pairs = Counter()\n",
    "for datum in train_data:\n",
    "    total_pairs.update(pair_count(datum))\n",
    "\n",
    "print(f\"Number of unique pairs in train set: {len(total_pairs)}\")\n",
    "\n",
    "for datum in test_data:\n",
    "    total_pairs.update(pair_count(datum))\n",
    "\n",
    "print(f\"Number of unique pairs in total set: {len(total_pairs)}\")\n",
    "\n",
    "unique_pairs = list(total_pairs.keys())"
   ]
  },
  {
   "cell_type": "code",
   "execution_count": 47,
   "metadata": {},
   "outputs": [],
   "source": [
    "def pair_frequency_feature_preparator(data, max_length=None):\n",
    "    data_pc = np.array(\n",
    "        [pair_count_ordered(datum, unique_pairs) for datum in data]\n",
    "    )\n",
    "    data_pc_scaled = np.multiply(\n",
    "        1 / np.sum(data_pc, axis=1), data_pc.T\n",
    "    ).T\n",
    "    if max_length is not None:\n",
    "        data_pc_scaled = np.vstack(\n",
    "            (\n",
    "                data_pc_scaled.T,\n",
    "                np.sum(data_pc, axis=1) / max_length\n",
    "            )\n",
    "        ).T\n",
    "    return data_pc_scaled"
   ]
  },
  {
   "cell_type": "code",
   "execution_count": 48,
   "metadata": {},
   "outputs": [],
   "source": [
    "train_data_pc_scaled = pair_frequency_feature_preparator(\n",
    "    train_data, max_length=max_sentence_length // 2\n",
    ")"
   ]
  },
  {
   "cell_type": "code",
   "execution_count": 49,
   "metadata": {},
   "outputs": [
    {
     "name": "stdout",
     "output_type": "stream",
     "text": [
      "{'fit_time': array([66.66461778, 70.9385922 , 69.14417005, 73.05050969, 69.74076605]), 'score_time': array([0.33570361, 0.28826284, 0.26490188, 0.26058269, 0.25916624]), 'test_precision_macro': array([0.615627  , 0.62139878, 0.62072327, 0.61413382, 0.60002419]), 'test_recall_macro': array([0.55343775, 0.55161525, 0.5516301 , 0.55481012, 0.54073931]), 'test_f1_macro': array([0.57446989, 0.57473951, 0.57464226, 0.57597649, 0.56105994]), 'test_accuracy': array([0.59956943, 0.5948024 , 0.59249577, 0.59535528, 0.58781913])}\n"
     ]
    }
   ],
   "source": [
    "from sklearn.naive_bayes import MultinomialNB, ComplementNB, GaussianNB\n",
    "from sklearn.ensemble import AdaBoostClassifier, GradientBoostingClassifier\n",
    "from xgboost import XGBClassifier\n",
    "from sklearn import metrics\n",
    "\n",
    "priors = [\n",
    "    class_distribution[i] / sum(class_distribution.values())\n",
    "    for i in range(len(class_distribution))\n",
    "]\n",
    "\n",
    "# clf = GaussianNB(priors=priors)\n",
    "# clf = ComplementNB(class_prior=priors)\n",
    "# clf = MultinomialNB(class_prior=priors)\n",
    "# clf = AdaBoostClassifier()\n",
    "# clf = GradientBoostingClassifier()\n",
    "clf = XGBClassifier()\n",
    "\n",
    "scores = cross_validate(\n",
    "    clf, train_data_pc_scaled, train_labels, cv=5,\n",
    "    scoring=['precision_macro', 'recall_macro', 'f1_macro', 'accuracy']\n",
    ")\n",
    "\n",
    "print(scores)"
   ]
  },
  {
   "cell_type": "code",
   "execution_count": 50,
   "metadata": {},
   "outputs": [
    {
     "data": {
      "text/plain": [
       "array([ 7, 11, 10, ...,  3,  7,  6])"
      ]
     },
     "execution_count": 50,
     "metadata": {},
     "output_type": "execute_result"
    }
   ],
   "source": [
    "classifier = XGBClassifier()\n",
    "classifier.fit(train_data_pc_scaled, train_labels)\n",
    "text_data_pc_scaled = pair_frequency_feature_preparator(\n",
    "    test_data, max_length=max_sentence_length // 2\n",
    ")\n",
    "classifier.predict(text_data_pc_scaled)"
   ]
  },
  {
   "cell_type": "code",
   "execution_count": 52,
   "metadata": {},
   "outputs": [],
   "source": [
    "pd.DataFrame(\n",
    "    {'lables': classifier.predict(text_data_pc_scaled).astype(str)}\n",
    ").to_csv(\"../data/ytest.txt\", index=False, header=False)"
   ]
  },
  {
   "cell_type": "code",
   "execution_count": 91,
   "metadata": {},
   "outputs": [
    {
     "name": "stdout",
     "output_type": "stream",
     "text": [
      "7\r\n",
      "11\r\n",
      "10\r\n",
      "8\r\n"
     ]
    }
   ],
   "source": [
    "!head -n4 ../data/ytest.txt"
   ]
  },
  {
   "cell_type": "markdown",
   "metadata": {},
   "source": [
    "## Character-level RNN Approach"
   ]
  },
  {
   "cell_type": "code",
   "execution_count": 27,
   "metadata": {},
   "outputs": [
    {
     "name": "stdout",
     "output_type": "stream",
     "text": [
      "tensor([[0., 0., 0., 0., 0., 0., 0., 0., 0., 1., 0., 0., 0., 0., 0., 0., 0., 0.,\n",
      "         0., 0., 0., 0., 0., 0., 0., 0.]])\n",
      "torch.Size([5, 1, 26])\n"
     ]
    }
   ],
   "source": [
    "import torch\n",
    "\n",
    "all_letters = string.ascii_lowercase[:26]\n",
    "n_letters = len(all_letters)\n",
    "\n",
    "# Find letter index from all_letters, e.g. \"a\" = 0\n",
    "def letterToIndex(letter):\n",
    "    return all_letters.find(letter)\n",
    "\n",
    "# Just for demonstration, turn a letter into a <1 x n_letters> Tensor\n",
    "def letterToTensor(letter):\n",
    "    tensor = torch.zeros(1, n_letters)\n",
    "    tensor[0][letterToIndex(letter)] = 1\n",
    "    return tensor\n",
    "\n",
    "# Turn a line into a <line_length x 1 x n_letters>,\n",
    "# or an array of one-hot letter vectors\n",
    "def lineToTensor(line):\n",
    "    tensor = torch.zeros(len(line), 1, n_letters)\n",
    "    for li, letter in enumerate(line):\n",
    "        tensor[li][0][letterToIndex(letter)] = 1\n",
    "    return tensor\n",
    "\n",
    "print(letterToTensor('j'))\n",
    "\n",
    "print(lineToTensor('jones').size())"
   ]
  },
  {
   "cell_type": "code",
   "execution_count": 28,
   "metadata": {},
   "outputs": [
    {
     "name": "stdout",
     "output_type": "stream",
     "text": [
      "tensor([[0., 0., 0., 0., 0., 0., 0., 0., 0., 0., 0., 0., 0., 0., 0., 0., 0., 0.,\n",
      "         0., 0., 1., 0., 0., 0., 0., 0., 0., 0., 0., 0., 0., 0., 0., 0., 0., 0.,\n",
      "         0., 0., 0., 0., 0., 0., 0., 0., 0., 0., 0., 0., 0., 0., 0., 0., 0., 0.,\n",
      "         0., 0., 0., 0., 0., 0., 0., 0., 0., 0., 0., 0., 0., 0., 0., 0., 0., 0.,\n",
      "         0., 0., 0., 0., 0., 0., 0., 0., 0., 0., 0., 0., 0., 0., 0., 0., 0., 0.,\n",
      "         0., 0., 0., 0., 0., 0., 0., 0., 0., 0., 0., 0., 0., 0., 0.]])\n",
      "torch.Size([7, 1, 105])\n"
     ]
    }
   ],
   "source": [
    "import torch\n",
    "\n",
    "n_pairs = len(unique_pairs)\n",
    "\n",
    "\n",
    "def lineToPairs(line):\n",
    "    pairs = [''.join((line[2 * i],  line[2 * i + 1])) for i in range(len(line)//2)]\n",
    "    return pairs\n",
    "\n",
    "# Find letter index from all_letters, e.g. \"a\" = 0\n",
    "def pairToIndex(pair):\n",
    "    return unique_pairs.index(pair)\n",
    "\n",
    "# Just for demonstration, turn a letter into a <1 x n_letters> Tensor\n",
    "def pairToTensor(pair):\n",
    "    tensor = torch.zeros(1, n_pairs)\n",
    "    tensor[0][pairToIndex(pair)] = 1\n",
    "    return tensor\n",
    "\n",
    "# Turn a line into a <line_length x 1 x n_letters>,\n",
    "# or an array of one-hot letter vectors\n",
    "def lineToTensor(line):\n",
    "    tensor = torch.zeros(len(line) // 2, 1, n_pairs)\n",
    "    for li, pair in enumerate(lineToPairs(line)):\n",
    "        tensor[li][0][pairToIndex(pair)] = 1\n",
    "    return tensor\n",
    "\n",
    "print(pairToTensor('xe'))\n",
    "\n",
    "print(lineToTensor('xepmuhlekrezlek').size())"
   ]
  },
  {
   "cell_type": "code",
   "execution_count": 29,
   "metadata": {},
   "outputs": [],
   "source": [
    "import torch.nn as nn\n",
    "\n",
    "class RNN(nn.Module):\n",
    "    def __init__(self, input_size, hidden_size, output_size):\n",
    "        super(RNN, self).__init__()\n",
    "\n",
    "        self.hidden_size = hidden_size\n",
    "\n",
    "        self.i2h = nn.Linear(input_size + hidden_size, hidden_size)\n",
    "        self.i2o = nn.Linear(input_size + hidden_size, output_size)\n",
    "        self.softmax = nn.LogSoftmax(dim=1)\n",
    "\n",
    "    def forward(self, input, hidden):\n",
    "        combined = torch.cat((input, hidden), 1)\n",
    "        hidden = self.i2h(combined)\n",
    "        output = self.i2o(combined)\n",
    "        output = self.softmax(output)\n",
    "        return output, hidden\n",
    "\n",
    "    def initHidden(self):\n",
    "        return torch.zeros(1, self.hidden_size)\n",
    "\n",
    "n_hidden = 128\n",
    "n_categories = len(class_distribution)\n",
    "rnn = RNN(n_pairs, n_hidden, n_categories)"
   ]
  },
  {
   "cell_type": "code",
   "execution_count": 30,
   "metadata": {},
   "outputs": [
    {
     "name": "stdout",
     "output_type": "stream",
     "text": [
      "output:\n",
      "tensor([[-2.5522, -2.4131, -2.5307, -2.4136, -2.4937, -2.4842, -2.3735, -2.5097,\n",
      "         -2.5134, -2.4911, -2.5070, -2.5551]], grad_fn=<LogSoftmaxBackward>)\n",
      "and hidden state:\n",
      "tensor([[0., 0., 0., 0., 0., 0., 0., 0., 0., 0., 0., 0., 0., 0., 0., 0., 0., 0., 0., 0., 0., 0., 0., 0.,\n",
      "         0., 0., 0., 0., 0., 0., 0., 0., 0., 0., 0., 0., 0., 0., 0., 0., 0., 0., 0., 0., 0., 0., 0., 0.,\n",
      "         0., 0., 0., 0., 0., 0., 0., 0., 0., 0., 0., 0., 0., 0., 0., 0., 0., 0., 0., 0., 0., 0., 0., 0.,\n",
      "         0., 0., 0., 0., 0., 0., 0., 0., 0., 0., 0., 0., 0., 0., 0., 0., 0., 0., 0., 0., 0., 0., 0., 0.,\n",
      "         0., 0., 0., 0., 0., 0., 0., 0., 0., 0., 0., 0., 0., 0., 0., 0., 0., 0., 0., 0., 0., 0., 0., 0.,\n",
      "         0., 0., 0., 0., 0., 0., 0., 0.]])\n"
     ]
    }
   ],
   "source": [
    "input = pairToTensor('xe')\n",
    "hidden =torch.zeros(1, n_hidden)\n",
    "\n",
    "output, next_hidden = rnn(input, hidden)\n",
    "print(f\"output:\\n{output}\\nand hidden state:\\n{hidden}\")"
   ]
  },
  {
   "cell_type": "code",
   "execution_count": 31,
   "metadata": {},
   "outputs": [
    {
     "name": "stdout",
     "output_type": "stream",
     "text": [
      "tensor([[-2.5522, -2.4131, -2.5307, -2.4136, -2.4937, -2.4842, -2.3735, -2.5097,\n",
      "         -2.5134, -2.4911, -2.5070, -2.5551]], grad_fn=<LogSoftmaxBackward>)\n"
     ]
    }
   ],
   "source": [
    "input = lineToTensor('xepmuhlekrezlek')\n",
    "hidden = torch.zeros(1, n_hidden)\n",
    "\n",
    "output, next_hidden = rnn(input[0], hidden)\n",
    "print(output)"
   ]
  },
  {
   "cell_type": "code",
   "execution_count": 32,
   "metadata": {},
   "outputs": [],
   "source": [
    "categories_dict = {\n",
    "    0: \"alice_in_wonderland\",\n",
    "    1: \"dracula\",\n",
    "    2: \"dubliners\",\n",
    "    3: \"great_expectations\",\n",
    "    4: \"hard_times\",\n",
    "    5: \"huckleberry_finn\",\n",
    "    6: \"les_miserable\",\n",
    "    7: \"moby_dick\",\n",
    "    8: \"oliver_twist\",\n",
    "    9: \"peter_pan\",\n",
    "    10: \"tale_of_two_cities\",\n",
    "    11: \"tom_sawyer\",\n",
    "}\n",
    "\n",
    "all_categories = list(categories_dict.values())\n",
    "\n",
    "\n",
    "from sklearn.model_selection import train_test_split\n",
    "\n",
    "max_line_length = 200\n",
    "X = np.array([line[:max_line_length] for line in train_data])\n",
    "y = train_labels\n",
    "\n",
    "X_train, X_valid, y_train, y_valid = train_test_split(\n",
    "    X, y, test_size=0.33, random_state=42\n",
    ")\n",
    "\n",
    "category_lines = dict()\n",
    "for key, value in categories_dict.items():\n",
    "    category_lines[value] = X_train[y_train == key]"
   ]
  },
  {
   "cell_type": "code",
   "execution_count": 33,
   "metadata": {},
   "outputs": [
    {
     "name": "stdout",
     "output_type": "stream",
     "text": [
      "('les_miserable', 6)\n"
     ]
    }
   ],
   "source": [
    "def categoryFromOutput(output):\n",
    "    top_n, top_i = output.topk(1)\n",
    "    category_i = top_i[0].item()\n",
    "    return all_categories[category_i], category_i\n",
    "\n",
    "print(categoryFromOutput(output))"
   ]
  },
  {
   "cell_type": "code",
   "execution_count": 34,
   "metadata": {},
   "outputs": [
    {
     "name": "stdout",
     "output_type": "stream",
     "text": [
      "category = peter_pan / line = satvuhiwentwulqvuhsatwamuluhqvenuheztwamuluhamypulendfuhskvienuhtwvienypbhleenlrkrqvuhtwamuluhlrvipmezenuhtwletwamuhtwmviwuhpmuluhskvitwultwlegzuhqvkruhultwxzuhrapmdfuluhqvenuhqvvimvdfuluhtwamuluhlrvi\n",
      "category = alice_in_wonderland / line = saiwiwenletwvitwlruhtwamxyuhijoatwulkrvimvezuhqvmvamuluhxexepmuhtwmkentwiwuhpmuluhkrpmsauhtwqvmvmkskenuhigkguhpksaiwgzleenamqvuhletwamulenleuhqgxeiwtwqvletwamuhpmuluhtwypmviwskuhskmvenqvuhijoaulenamul\n",
      "category = oliver_twist / line = qvsodfpmiwvidfpmledfuhraleqjuhamypmvamdfuhpmulvimvuhulmvxebhlrvimvulvimvenxeuhtwamuluhezpmlexeuhlrvimvletwmkpmyptwleuhvipmpmqvuhletwmkmviwyvuhqgqjiglpuhprfqigfqjekqeefqyveeuhmckqjekqguguskuhprigokqjig\n",
      "category = tale_of_two_cities / line = letwamuhqgxeiwtwqvletwamuhskvienuhqgletwamulenxeuhletwamuhlekrtwmvqvvipmqjuhlepmxeuhsaamulengzezsaqvuhlekrpmuhiwiwenuhletwulxeenuhqgulenamulnkuhqgulmvuhulmvezskenuhpmuluhletwamuhtwypkrskvimvuhpmuluhtw\n",
      "category = les_miserable / line = letwmkpmuhtwvipmlruhskenamuhpmamdfuhvitwezuhpksktwvipmululkrtvvikruhqvtwmkiwtwqveztwamuluhsktwdfpmamqvuhqvlepmulmvenleguuhravipmqvmvlegzuhvimvuhqvamulvipmezuhcimvxyuhratwypvienletwululkruhqvkrpmmvulmv\n",
      "category = les_miserable / line = qvmvuhulenamokuhoaqvleenulqvuhqvqvtwiwtwqvkruhqgqvulqvkrlruhqgqvskvimvdfiwlemvamdfuhqgqvskkrpmiwypuhqgqvskvimvokuhraqvqvtwvilrvimvamulpmviuhgzqvenlelruhskvienuhqgtwqvpmiwypuhsatwamuluhpksaiwtwmkmvqviw\n",
      "category = les_miserable / line = saezuhxepmuhqvskvikrpmtvuhtwamuluhvimvamulmvdfuhezenuhiguhulenamuluhucleeneztwleuhpmuluhtwezuhulmvezletwgzuhiwiwmvdfuhtwamuhulkrtvuhqgtwxemviwuhsaezuhvimvuhtwezmvuluhulqvlemvxeuhtwamuluhlepmxeuhqvmvuh\n",
      "category = dracula / line = qvenuhezleenuhsaezuhsktwamypkrpmuluhqvvipmmvviengzezpmypuhsaezuhxepmuhtwviyvuhraletwulendfuhlrvimviwiwenxeuhxepmuhezentwiwlruhtwulmvamdfuhtwamuluhvimvenlrenuhskvienuhdfpmviuhdfenqvuhtwdfuhqgucvimvqvuh\n",
      "category = great_expectations / line = ralrvimvpmskuhsaezuhiwiwenuhqvendfuhulmvuhucvimvamuluhskiwkrpmdfuhsatwamuluhulenamuluhulleengzuhsaezuhvipmuhqvqvtwviqvkrpmmvypqvvipmypuhsktwypenxebhtwezenamqvuhenuhamulmvdfbhbhqgvipmuhsktwulqvpmgzuhtw\n",
      "category = peter_pan / line = qvqvtwiwvikruhsaiwxeuhvienypuhtwvipmuhpmviuhlepmxeuhqgeztwamuluhamulmvdfuhlrvimviwxemvleuluhvitwtwtvuhskenamuhletwultwmwuhtwqvlekrpmypuhxeyvuhulpmviuhskmvskuhletwultwmwuhskvienuhqgqvtwiwtveniwiwsaqvuh\n"
     ]
    }
   ],
   "source": [
    "import random\n",
    "\n",
    "def randomChoice(l):\n",
    "    return l[random.randint(0, len(l) - 1)]\n",
    "\n",
    "def randomTrainingExample():\n",
    "    category = randomChoice(all_categories)\n",
    "    line = randomChoice(category_lines[category])\n",
    "    category_tensor = torch.tensor([all_categories.index(category)], dtype=torch.long)\n",
    "    line_tensor = lineToTensor(line)\n",
    "    return category, line, category_tensor, line_tensor\n",
    "\n",
    "for i in range(10):\n",
    "    category, line, category_tensor, line_tensor = randomTrainingExample()\n",
    "    print('category =', category, '/ line =', line)"
   ]
  },
  {
   "cell_type": "code",
   "execution_count": 35,
   "metadata": {},
   "outputs": [],
   "source": [
    "criterion = nn.NLLLoss()"
   ]
  },
  {
   "cell_type": "code",
   "execution_count": 36,
   "metadata": {},
   "outputs": [],
   "source": [
    "import torch.optim as optim\n",
    "\n",
    "learning_rate = 0.005 # If you set this too high, it might explode. If too low, it might not learn\n",
    "optimizer = optim.SGD(rnn.parameters(), lr=learning_rate)\n",
    "\n",
    "def train(category_tensor, line_tensor):\n",
    "    hidden = rnn.initHidden()\n",
    "\n",
    "    rnn.zero_grad()\n",
    "\n",
    "    for i in range(line_tensor.size()[0]):\n",
    "        output, hidden = rnn(line_tensor[i], hidden)\n",
    "\n",
    "    loss = criterion(output, category_tensor)\n",
    "    loss.backward()\n",
    "    nn.utils.clip_grad_value_(rnn.parameters(), 0.5)\n",
    "    optimizer.step()\n",
    "\n",
    "    return output, loss.item()"
   ]
  },
  {
   "cell_type": "code",
   "execution_count": 373,
   "metadata": {},
   "outputs": [
    {
     "name": "stdout",
     "output_type": "stream",
     "text": [
      "5000 1% (2m 37s) 2.5166 twletwamuluhulkrdfuhraulvitwmktwuhskenqvuhtwamuluhulkrpmtvenuhqvletwgzqvmvamdfuhvimvuhtwqvletwmkvipmypuhpmuluhtwiwkrtvmvulqvtwmkuhtwamuluhvimvuhulvitwezpmezuhenuhlrvimvletwulmvpmiwuhqgletwamulenlruhpm / moby_dick ✗ (tom_sawyer)\n",
      "10000 3% (4m 49s) 2.3314 raezmvamuhlrvimvsaxemvulvitwskmvuhxepmuhtwqvpmgzlekrgzuhtwamuluhlepmxeuhtwqvkrpmamuhsaleulvikrpmypuhtwamuluhpmuluhulmvqvmvmkuhlemvtwamuluhpmuluhsktwiwuhskenamuhskentwamuhqvmvamuluhvipmuhtwulkrgzqvmvsk / hard_times ✗ (oliver_twist)\n",
      "15000 5% (7m 9s) 2.4852 twiwenamdfuhulqvlemvxeuhtwamuluhulenamuluhqgskmvenqvuhulmvuhtwtvuhlrvimviwiwenypuhlekrpmuhxepmuhlekrpmvipmamuhiwenviletwultwuhtwamuluhpmuluhskvienuhpkvieneztwiwenamdfuhulqvlemvxeuhtwamuluhqvendfuhqgle / tale_of_two_cities ✗ (moby_dick)\n",
      "20000 6% (9m 29s) 2.8216 qvsklemvtvuhtwamuluhpmuluhuciwenuluhvienypuhtwiwgzpmtwgzuhqvtwmvlepmulqvuhiwkrxemvypvienxeuhviiguhratwlrenkrlrvieniwuhqvijletwamulpmuhtwamuluhskpmpmulqvletwskvikruheztwamuluhxepmuhletwamulmvtwviuhtwqv / alice_in_wonderland ✗ (peter_pan)\n",
      "25000 8% (11m 42s) 2.0526 letwamuhskiwpmuluhtwamqvuhskvienuhqgtwypmviwskuhskmvenqvuhijoaezentwleskuhqvkrpmmvlekrypuhenuhamypkrqvuhskenamuhtwmkijiguhqgamyvkguhtwmkijkrpmsauhgztwtwiwqvuhlrvipmiwuhenuhulenamdfuhqgsaamokkguhpkletw / alice_in_wonderland ✓\n",
      "30000 10% (14m 8s) 2.4694 twtvuhpmuluhvipmmvulmvskvipmypuhpmviuhvimvuhqvmvuhskvienuhqgezmvamuhvipmgzkruhletwmktwxeuhxepmuhqvezpmulgzezsaqvuhlrvipmleulqvuhqvenamuhsapmtvuhtwamguuhuhratwqvkrypcitwuhlekrpmuhtwtvuhulqvkrezuhulenam / peter_pan ✗ (oliver_twist)\n",
      "35000 11% (16m 23s) 2.6267 twypeniwgzuhletwamuhskvienuhpkqvgzenamletwgzuhqgiwpmpmxeuhenuhqvendfuhtwamqvuhsaenxyuhohdfpmiwiwtwxeuhenuhamulmvdfuhsaendfenuhvikrleuhskenamuhtwamqvuhulenamuluhulkrpmuhskvikrpmxeuhsatwamuluhvitwamdfuh / peter_pan ✗ (dubliners)\n",
      "40000 13% (18m 45s) 2.4062 qvmvamuhamulmvdfuhulqveniwuhlrvimvletwulvitwuhqgsatvletwskvikrpmdfuhraleqjuhskmvenqvuhijoaamtwuhqgqviwmvpmuhtwvimvviuhskvienuhqvlrtwiwsaleletwqjkguhijraqvucleentvuhsaiwvipmuhtwamuhskvienuhqgqvlrtwiwsa / huckleberry_finn ✗ (hard_times)\n",
      "45000 15% (21m 3s) 2.3183 ratwqvvitwgzqvkrqvuhxepmuhlrvimviwtwtwxeuhucypmvqvuhenuhamulmvdfuhsktwulmvendfuhiguhraqvtwypvitwmvletwgzcitwuhulvitwyptwleuhsaezuhsatvuhsktwqventwleypvimvuhqvendfuhulamlrmvviskmvezuhulkrpmtvenuhvipmmv / peter_pan ✗ (dracula)\n",
      "50000 16% (72m 54s) 2.3193 xepmuhulvimvezuhenuhqvulqvpmypuhuliguhuhrasatwvipmezuhqvulqvpmypuhuliguhuhraiwiwenuhulenuhkrpmsauhlepmxeuhulpmviuhqvijulmvuhulkrdfkguhqvmvamuhvimvuhlrvimvletwskviendfuhletwmktwviuhskvienuhqgletwvivien / tom_sawyer ✗ (hard_times)\n",
      "55000 18% (75m 0s) 2.5886 qvqvtwiwuhlepmuhtwlepmezuhqgvitwleskiwmvamypuhulkrpmtvenuhskvienuhqgqvtwmkiwtwqveztwamuluhtwucmviwuhqvqvtwiwuhlepmuhtwlepmezuhqgvitwezpmdfuhskvienuhvitwezuhulkrpmtvenuhqvtwiwtvenxeuhtwletwezuhskentwle / tom_sawyer ✗ (hard_times)\n",
      "60000 20% (77m 31s) 2.4641 vipmmvlrtwleuhulenamuluhxepmuhqvdfpmleyptwleenypqvuhulvikrenlruhtwamuluhvitwamdfuhqgtwezpmypuhpmuluhqvendfuhtwezmvuluhtwamuluhqglepmuyuhskvienuhqgentwqvuhulenuhtwletwdfuhsatwamuluhsktwtwskviiguhraentw / dubliners ✗ (tale_of_two_cities)\n",
      "65000 21% (79m 47s) 2.5985 pmamdfuhdfpmviucuhpmuluhqgeztwamuluhskenamuhkrpmsauhxemvuhqgtwmkmvlruhulpmviuhkrpmsauhskiwkrpmdfuhqvskvikrpmgzuhxepmuhqvskvienqvkrpmamuluhxepmuhqvsktwleskvikramuhskvienuhqvskvienqvkrpmamuluhsavienezuh / alice_in_wonderland ✗ (oliver_twist)\n",
      "70000 23% (82m 26s) 2.5117 skiwkrpmdfuhultwamypenypuhtwskuhletwulultwiwuhenuhqgulqvengzuhqvleentwsauhlepmxeuhskkrpmiwypuhulenamuluhsatvuhsktwdfpmskenamqvletwmkpmuhvitwtwtvuhulpmviuhskenamuhskvienuhqgullekrpmeeuhtwamuluhamulmvdf / oliver_twist ✗ (tale_of_two_cities)\n",
      "75000 25% (84m 44s) 2.2655 qvendfuhqgqvtwqvqveniwlruhpmdfuluhskenamuhiguhamypmvamdfuhxepmuhqgsaenucpmguuhskiwpmuhxepmuhtwiwululpmtvuhenuhskvienuhskeniwenqvuhenuhskvienuhtwqvtwtwamypuhtwezpmqvuhamulmvdfuhqgqvmvamguuhravitwucypmv / tom_sawyer ✗ (dracula)\n",
      "80000 26% (87m 5s) 2.3078 skiwkrpmdfuhulenamuluhucenpmiwypuhsalemvenxeuhxepmuhullepmqvuhenuhqvenuhxeiwtwqvezmvamuhxepmuhulleengzuhulvienullepmgzezmvuhulenamuluhlrvimvqvkruhpkskentwamuhqvmvamuhucpmpmamqvuhsalelepmxzuhraleqjuhqg / oliver_twist ✗ (tale_of_two_cities)\n",
      "85000 28% (89m 28s) 2.3964 rasktwletwtvezkrviuhtwletwdfuhqvsaenskuhqvsaskpmtvtwezpmqvuhulenamuluhulvientwezuhulmvbhbhletwskskkramqvuhezpmguuhtwskenezuhskentwamuhqvsktwtvuhtwamuluhulenuhiwiwendfuhtwamuluhvimvuhamypulendfbhamulen / dubliners ✗ (tom_sawyer)\n",
      "90000 30% (91m 59s) 2.5373 vipmpmqvuhskvienuhqglrvimvgztwtwiwqvuhxepmuhsaiwucypmvkrszuhsktwlemvuluhletwultwmwuhulkrtvuhqgletwlrvipmiwuhulgztwiwqvuhtwmkenamuhskiwkrpmdfuhsatwamuluhsktwtwskviiguhrasaulmvlekryptwqvuhamulmvdfuhqvkr / hard_times ✗ (peter_pan)\n",
      "95000 31% (94m 16s) 2.4680 qgletwvipmmvulmvultwgzuhtwamuluhsktwskvikrpmlelekrqvuhqgulpmpmxeuhskvienuhtwqvlepmamuhqgskleenkrlruhtwamulnkuhpkucvimvleskuhlepmviuhskpmpmxeuhletwamulmvtwviuhqvendfuhulenamulbhbhlrvimvamultwezpmqvuhle / tom_sawyer ✗ (tale_of_two_cities)\n",
      "100000 33% (96m 47s) 2.5271 twamuluhxepmuhletwmkmvleskuhtwamuluhskvienuhsklemvamuluhskvienuhskvipmyptwqvuhsktwypeniwgzuhvitwtwtvuhskenamuhsatwamuluhpksaiwskmviwpmqvuhsktwamqvmvvimvxeuhskenamuhezentwuluhlemvtwamguuhraqvlepmulypmv / tom_sawyer ✗ (dubliners)\n",
      "105000 35% (99m 38s) 2.6395 qvqvtwviiwkrxeletwtwamypuhxepmuhlemvenuhvienuhamulmvdfuhtwletwamuhezpmlexeuhqvqvenmwuhratwmkpmiwuhsaezuhqgezleenuhlekrpmsauhtwezuhtwmkmvprnkuhraskenpmleuhtwulmvamdfuhtwamuluhletwmkpmuhdfpmskenamqvuhen / tom_sawyer ✗ (tale_of_two_cities)\n",
      "110000 36% (102m 16s) 2.6752 soraletwmktwuhlepmxeuhtwvipmuhletwtvezkrfqsouhuhraletwuliwpmdfuhraleqjuhsktwmvleypuhsooaenamuhoaenlpsouhqgskvitwmvlexeuhsaezuhqgletwamulmvtwviuhqvsouliguhuhravitwmktwqvuhletwtvezkrviuhsaenqvuhtwezpmqv / dubliners ✗ (oliver_twist)\n",
      "115000 38% (104m 38s) 1.9893 twamuluhpmuluhqvtwypvienleulvitwuhvitwmktwqvuhtwamuluhtwleenuhtwqvtwamguuhrasapmtvuhenuhqvenuhtwlrleeniwuhqvenuhucvikrleuluhdfpmiwiwpmamuhqvulmvuhvimvuhtwiwpmamuhenuhamulmvdfuhamypentwuhqgqvtwtwleuluh / peter_pan ✓\n",
      "120000 40% (106m 56s) 2.1275 qvtwvipmtvuhskvienuhpkqvtwmvletwiwmvkrguuhtwamuluhxepmuhtwypeniwengzuhtwamuluhvipmgzkruhsaiwulyptwlemvskuhulqvpmeziwenuhlrvimvvitwgzpmuhultwtwleulqvuhullepmamqvuhenuhqgqvmvleenmwuhvimvuhtwvimvamgzkren / dubliners ✗ (moby_dick)\n",
      "125000 41% (109m 26s) 2.5916 skvienuhqgsaendfuhtwamuluhxepmuhqvtwskmvqvuhamulpmtvuhvipmuhqvtwqvkrpmamuhqvsovitweztwiwulvitwlruhskvienuhqvvitwskleenlruhtwlrleeniwuhsavienezuhlrvimvqvqvengzuhjztwezmvuluhlrvipmiwuhenuhlepmxeuhvipmuh / tale_of_two_cities ✗ (oliver_twist)\n",
      "130000 43% (112m 9s) 2.4008 enuhlrvimviwiwkrgzuhtwletwdfuhiguhskvienuhulletwtvletwlpuhqgucviendfuhskvipmmwuhiwiwmvqjuhsktwqvqvengzuhiguhtwezmvuluhulqvlemvxeuhtwamguuhraamulmvlekquhpmuluhvidfpmskuhskvienuhqgiwpmpmmwuhtwamuluhvimv / hard_times ✗ (great_expectations)\n",
      "135000 45% (115m 0s) 2.0945 iwenqvqvpmiwpmypuhqglrvimvletwlrvimviwuhqglrvipmiwuhskuhraulmvuhsktwiwiwpmlevikruhtwlpuhraletwgzengzuhenuhvimvuhqvendfuhuliguhraamlrmvqvuhenuhamulmvdfuhulyptwbrtvpmuhqvmvamuluhgzkruhucpmpmuluhskvienuh / tom_sawyer ✓\n",
      "140000 46% (117m 38s) 2.8766 ezpmlexeuhleenxebhbhqgtwlrlepmxeuhtwamuluhulenuhtwezuhulxetwiwuhskenamuhtwamuhulenamguuhoatwezpmypuhletwmktwviuhskenamuhtwamuhulenamuluhyvuhvgraletwulultwiwuhsaezuhpmuluhtwiwtventwtwlelrenuhqgkrpmsauh / huckleberry_finn ✗ (great_expectations)\n",
      "145000 48% (120m 8s) 2.6252 raucletwiwypuhenuhsatvuhpmuluhsktwskvitwululenuhvitwtwtvuhqvenamuhuclepmdfuhtwvimvulkrpmleuhtwamuluhpmqvuhpkucypmvqvuhiwkrqvvipmeebhtwypmvnbuhtwamuluhskvienuhqgsaendfenuhqvmvuhiwkrqvvipmeeuhtwamguuhra / oliver_twist ✗ (dracula)\n",
      "150000 50% (122m 32s) 1.9540 vitwamokuhraqvvipmmvulqvtwkrszuhucqvenuhpmuluhsktwulviendfuhtwamqvuhskvieniwvimvenezuhtwamuluhvipmuhsktwmkmvleleenuhtwamqvuhulvitwezpmezuhtwamuluhezpmlexeuhxemvuhqvenuhqgucpmpmiwuhlrvimvlemvkrszvimvuh / peter_pan ✓\n",
      "155000 51% (125m 6s) 2.3434 skiwmvamypuhqvijletwiwiwpmleulqvuhtwamuluhvitwamdfuhulamlrmvviuhtwamuluhtwypvimvqvuhqgvimvenlrenuhpmuluhsktwvitwulxepmqvuhletwmktwviuhskenamuhtwamqvuhsaqvqvmvxyuhpklepmxeuhulmvxevikruhiwiwenuhxeiwtwqv / tom_sawyer ✗ (hard_times)\n",
      "160000 53% (127m 33s) 2.2627 vimvuhdftwlelruhqvqvenlelruhtwamuluhskvienuhqgqvsaendfamlrmvamuhtwucmviwuhqvulkrleuhskenamuhqvultwtwleulqvuhtwamuluhlepmxeuhqgsaulmvypuhtwamuluhulpmviuhqvendfuhulmvuhpkqvultwtwleulqvuhskvienuhqvtwqvkr / tale_of_two_cities ✗ (les_miserable)\n"
     ]
    },
    {
     "name": "stdout",
     "output_type": "stream",
     "text": [
      "165000 55% (130m 11s) 2.3863 qgtwezpmqvtwvipmiwuhulmvuhskvikrpmxeuhtwamuhvitwamguuhralekrpmamuhvienuhsktwulmvendfuhskvienuhqgvimvenlrenuhvidfpmskuhulenqvuhucypkrlpuhpmxyuhralrvimvlegzqvuhtwamuluhsatvuhskvikrpmleenuhulvikramuhiwiw / peter_pan ✗ (tom_sawyer)\n",
      "170000 56% (132m 56s) 2.5907 salrletwvitwuhxepmuhiwiwkrxeuhqgvienezuhlrvikrpmsauhenuhqvmvuhtwlpuhratwypvitwskmvxevipmypuhtwiwtvmvqvqvpmgzuhsaletwmktwuhtwmkenamuhiguhezpmamdfuhvimvuhtwvipmuhqgtwulkrulmvulqvtvkrqvuhulvitwmvypmvxexe / dubliners ✗ (dracula)\n",
      "175000 58% (135m 58s) 2.7871 raulvitwdfuhtwpmcguhskvienuhqgtwypeniwgzuhqvmvamuhxepmuhulkrpmuhezmvamuhsktwvipmucyptwtvuhvieneztwiwulvitwlruhtwlrvienleulqvuhtwamguuhvgohvienezuhtwamuluhqvmvuhamypmvamokuhrasaletwlrleenprbhbhtwpmcguh / hard_times ✗ (great_expectations)\n",
      "180000 60% (138m 19s) 2.2532 letwamuhlrvimvqventwleypvimvuhqgvitwuluhucypkrleulqvuhucyppmiwypuhtwamguuhuhravipmskvipmxzuhxepmuhskvikqbhulqvtwokuhtwamuluhqvskleendfpmuluhqvskiwtwmvxeiwenulmvgzxyuhezpmlexeuhlrvimvucenezuhvimvuhqgsa / alice_in_wonderland ✗ (oliver_twist)\n",
      "185000 61% (140m 56s) 2.6193 ulmvuhulkrtvuhqgamqvmvvimvezmvskuhsaiwiwentwleuhskmvskuhtwvimvypmvsktwezuhtwamuluhulenamuluhskvikrpmxeuhtwamxyuhrasaiwtwvimvulqvtwskvieniwypuhtwiwululpmtvuhtwamuluhsktwamypulendfuhtwamqvuhqgezpmguuhqv / alice_in_wonderland ✗ (tom_sawyer)\n",
      "190000 63% (143m 14s) 2.6191 qvmvamuhpmuluheztwamuluhtwqvpmiwypqvmvskuhpmuluhqglepmlelepmamuhamulmvdfuhucypkrleulqvuhqgskvienuhqgqvtweztwamypqvuhqvijletwvipmqvmvlegzuhtwamuluhxepmuhtwlekrulenviuhtwamuluhulkrpmuhultwleletwxeuhpmul / tom_sawyer ✗ (tale_of_two_cities)\n",
      "195000 65% (145m 44s) 2.6111 raletwamulenxeuhletwamuhulenuhtwypvieniwlruhenuhamulmvdfuhskvienuhqgsaiwsktwulvimvpmgzuhvipmmvulqvtwkrszuhtwamuluhletwamuhsktwucqvenuhtwlpuhvgohiwiwenuhqvkruhlepmxeuhucentwgzqvuhsaenezuhiguhucvimvamul / tom_sawyer ✗ (tale_of_two_cities)\n",
      "200000 66% (148m 8s) 2.0221 enuhlrvimvucypmvucuhgziwtwamuhulpmviuhskiwkrpmypuhsatwamuluhqgletwultwmwuhqvenuhulvienlrtwiwtwuhpmqvuhsaiwleentwviuhulpmviuhtwletwdfuhsatwamguuhtwvilepmtvuhqvendfuhtwamuhsaiwtwulenmvsktwezezmvuhskvien / peter_pan ✓\n",
      "205000 68% (151m 8s) 2.2920 qvulenpmypuhlekrxeuhxepmuhulpmiwuhiwkrxeletwskvipmdfuhenuhamypkrqvuhtwezpmamuhulvitwqvuhqvenamuhskvienuhqgpmpmuluhlrvimvgzgzpmamqvuhvitwtwtvuhqvenamuhtwlpuhravimvenlrenuhskpmpmxeuhskpmpmlruhsavienuhul / alice_in_wonderland ✗ (dracula)\n",
      "210000 70% (153m 36s) 2.4276 qgulamlrmviwuhxepmuhsaenleuhpmviuhtwezenypuhqvdfpmskvimvdfuhucypeniwtvuhiwiwenuluhtwqvpmamdfuhezpmlexeuhqgtwiwulqvenypuhsktwvimvkrleuhulqvenmkuhenuhxepmuhskleensaullekrpmypuhtwamuluhvimvuhqvtwqvlepmam / peter_pan ✗ (dracula)\n",
      "215000 71% (156m 6s) 2.5728 qgulvitwypmvxemvvilrenezuhskvienuhqgskiwpmtvuhqgskvienlelruhtwletwdfuhulenamuluhqvlrvimvamuluhskmvskuhqvtwezmvultwezpmqvuhqgezmvamuhsktwulletwqvtwskuhletwmktwviuhamypmvamdfuhlemvenuhskmvskvienypuhskvi / oliver_twist ✗ (les_miserable)\n",
      "220000 73% (158m 26s) 2.4494 vimvuhqvtwmkiwtwqveztwamuluhlrvimvsksktwtveztwuhtwletwamuluhskvienuhqgqvtwvimviwuhamqvmviwlrvikquhtwamuluhvimvuhlrvimviwiwenxeuhqvtvezpmtvuhtwamuluhxepmuhulyptwxexetwuhiwiwenezqvuhtwamuluhpktwlrskmvle / hard_times ✗ (les_miserable)\n",
      "225000 75% (160m 51s) 2.3918 twamuluhviiguhraqvqvtwleskskenuhvipmmvulyptwiwtwuhvienuhxepmuhsagzpmypuhenuhlepmxeuhulgztwypcitwuhtwleentvuhtwletwdfuhezpmpmleuhtwamuluhxepmuhqviwiwendfuhtwamguuhralekrpmiwpmypuhiwkrxeletwtwamypuhqvul / tom_sawyer ✗ (dubliners)\n",
      "230000 76% (163m 9s) 1.8533 jzskpmpmlruhviezenskuhpmviuhqgskpmpmlruhpmviuhqvendfuhletwmvamqvenypuhtwamuluhqgpmfquhohtwypvienmkskenuhvienuhlepmxeuhsaiwtwulenmkmvlegzuhletwmvamqvenypuhtwamuluhucqvenuhtwamuhskiwkrpmeeuhrarararaezmv / dubliners ✓\n",
      "235000 78% (165m 47s) 2.8214 saiwtwskmvdfuhqvendfuhtwlpuhraqvtwypvienvimvxeuhqvmvamuhxepmuheztwiwtvpmlegzuhtwvimvxeuhtwamuluhsktwypvieniwentvuhtwamuhamypmvamdfuhvipmgzkruheniwiwtwletvezkruhiwenlepmezuhtwamuluhqvendfuhtwezenviuhvi / oliver_twist ✗ (dubliners)\n",
      "240000 80% (168m 22s) 2.6146 krpmsauhtwleenuhlrvipmiwuhdfpmamuhqgsaenxyuhuhohtwtwqvuhkrpmsauhulijvipmskuhqgtwiwskskmvleuhenuhqvijulmvuhqgulmvuhtwezeniwtvuhqgsaamoknkuhvgohlepmxeuhtwezuhucqvenuhkrpmsauhskmvskuhulenamdfuhqgqvendfuh / alice_in_wonderland ✗ (huckleberry_finn)\n",
      "245000 81% (171m 8s) 2.4197 iwenulvitwezmvulvitwqvuhtwmkmvulenvimvlrenezmvuhpmviuhqvijtwletwamuluhqgtwezuhulkrpmtvenuhtwskmvlegzuhsaiwmvezenxeuhpmviuhqvijtwletwamguuhraletwamulpmezskvienlelruhvitwucvikrleskuhsaezuhulgztwypcitwuh / peter_pan ✗ (hard_times)\n",
      "250000 83% (173m 45s) 2.7709 lemvenuhtwamuluhqgtwvipmleamuluhqvmvamuhvimvuhlrvimvskskpmviuhulenqvuhletwulqvenezuhtwamuluhqgsatvuhsktwulxemvleskuhlekrpmamuhtwiwpmamdfuhskuhucypkrulqvuhskenamuhskvienuhqgezpmulqvkrypuhqvendfuhulmvuh / huckleberry_finn ✗ (tom_sawyer)\n",
      "255000 85% (176m 26s) 2.8896 twamuluhqgvipmypentvuhxepmuhtwypmviwqvuhenuhqgulentwezuhxepmuhulmvtvuhenbhbhqglrvimvulentwuhqvendfuhtwamuhtwiwmvamdfuhiwdfpmtvuhqvmvamuhezpmlexeuhulqvengztwleuhqvmvamuhxepmuhulleengzuhulqvtwtvuhtwamul / alice_in_wonderland ✗ (les_miserable)\n",
      "260000 86% (178m 52s) 2.5632 enuhvitwiwpmulqvuhskenamuhsktwskvienlpbhsktwjeuhtwamuluhvivimvuyuhratwletwamuluhulmvuhlrvimvulultwlruhamulmvdfuhulkrpmuhxeiwtwqvezmvamuhvilepmdfuhulkrpmtvenuhskenamuhskvienuhqgvipmypentvuhxepmuhtwskmv / tale_of_two_cities ✗ (tom_sawyer)\n",
      "265000 88% (181m 31s) 2.0480 lrvimvpmlrbhenuhulijvimvenuhskvienuhqgulkrpmucpmpmiwuhtwamuluhvipmuhqvsaendfiwenuhqvijulenamuluhtwviyvuhqvijtwletwamuluhtwezuhlrvimvdfpmamqvuhqvendfuhdfpmviuhskvienuhqgezleenamuhpmviuhtwezuhtwvipmskuh / huckleberry_finn ✓\n",
      "270000 90% (183m 52s) 2.9435 eztwamuluhxepmuhtwvipmuhskvikrpmleenuhtwvimviwuhtwamuluhsktwqvqvengzuhiguhuhrapmuluhtwmvuluhpmuluhqvlrvimviwgzenqvuhtwiwululmviwuhulkrtvuhlrvimvamulsavienuhulijvileendfuhtwletwamuluhqgulqvenxeuhtwucen / tom_sawyer ✗ (huckleberry_finn)\n",
      "275000 91% (186m 41s) 2.6109 amenmvqvpmcguhtwlepmxetwtvuhqvezleenuhsaezuhvimvuhsktwmvskuhpmamdfuhqgletwamulpmezuhlepmpmgzuhsaezuhxepmuhsalepmeztwezuhtwamuluhulqvvimvenlrenuhiwenskvienypqvuhlekrpmsauhlepmxeuhskvienuhqgqvvipmmvulen / moby_dick ✗ (hard_times)\n",
      "280000 93% (189m 24s) 2.2802 twamuluhvipmuhqviwenmvulmvvimvuhletwamuhskenamuhulenamuluhucpmpmtvlrvipmqvuhskvikrpmtvbhletwamulentwiwuhskiwpmuhtwamuluhskvienulqvbhypmvqvkrezuhtwamuluhvimvuhtwypeniwgztwleuhpmuluhulvitwtvuhtwamqvuhqv / alice_in_wonderland ✗ (dubliners)\n",
      "285000 95% (191m 51s) 2.8781 enqvmvkrpmxzuhdfenqvuhtwamqvuhqglekrpmamuhpmuluhlekrpmamuhskvienuhsaenskuhpmuluhsaenskuhezpmlexeuhqgqvlemvenulqvuhtwqvpmamuluhvidfpmskuhskvienuhpkezpmululpmtvuhtwamuluhulenuhvimvkrleuhskvienuhtwezenam / tom_sawyer ✗ (hard_times)\n",
      "290000 96% (194m 22s) 2.2453 jzskmvenqvuhtwlpuhraulmvuhlepmxeuhsktwgzgzenleuhqvtwiwucypkrviucuhqvmvamuhulpmlruhskvienuhqgtwqvpmviuhsaletwmkuhqvulvikrenuhqvmvamuhletwskvikruhleenlrkrqvuhiwentwulqvuhpmuluhsktwmvleuluhtwlpuhraulqven / peter_pan ✗ (tom_sawyer)\n",
      "295000 98% (197m 1s) 2.3149 ulamlrmvleuhqvendfuhulmvbhbhulamlrmvletvuhvwqvendfvwuhulenamguuhuhraucleenezuhdfpmleleenbhtwkriwtvuhsaleenvimvlrenezmvuhulenamuluhamulmvdfuhsauctwtwamypuhskvienuhiwpmpmypuhpmqvuhulkrpmuhlrvimvezpmypuh / alice_in_wonderland ✗ (huckleberry_finn)\n",
      "300000 100% (199m 32s) 2.8502 ypmvpmletwamuhulqvpmezuhtwamuluhamulmvdfuhqvtwmkmvdfuhlemvtwamuluhxepmuhqvqvpmiwuhtwamuluhtwlepmtvuhqgpmpmuluhqgqvskvientvqvkrlpuhuhraeztwamuluhtvlekrulqvmvskuhpmuluhsktwvitwgzgzenamuhskenamuhletwmktw / les_miserable ✗ (oliver_twist)\n"
     ]
    }
   ],
   "source": [
    "import time\n",
    "import math\n",
    "\n",
    "n_iters = 300000\n",
    "print_every = 5000\n",
    "plot_every = 1000\n",
    "\n",
    "# Keep track of losses for plotting\n",
    "current_loss = 0\n",
    "all_losses = []\n",
    "\n",
    "def timeSince(since):\n",
    "    now = time.time()\n",
    "    s = now - since\n",
    "    m = math.floor(s / 60)\n",
    "    s -= m * 60\n",
    "    return '%dm %ds' % (m, s)\n",
    "\n",
    "start = time.time()\n",
    "\n",
    "for iter in range(1, n_iters + 1):\n",
    "    category, line, category_tensor, line_tensor = randomTrainingExample()\n",
    "    output, loss = train(category_tensor, line_tensor)\n",
    "    current_loss += loss\n",
    "\n",
    "    # Print iter number, loss, name and guess\n",
    "    if iter % print_every == 0:\n",
    "        guess, guess_i = categoryFromOutput(output)\n",
    "        correct = '✓' if guess == category else '✗ (%s)' % category\n",
    "        print('%d %d%% (%s) %.4f %s / %s %s' % (iter, iter / n_iters * 100, timeSince(start), loss, line, guess, correct))\n",
    "\n",
    "    # Add current loss avg to list of losses\n",
    "    if iter % plot_every == 0:\n",
    "        all_losses.append(current_loss / plot_every)\n",
    "        current_loss = 0"
   ]
  },
  {
   "cell_type": "code",
   "execution_count": 374,
   "metadata": {},
   "outputs": [
    {
     "data": {
      "text/plain": [
       "[<matplotlib.lines.Line2D at 0x7fbde29ed2b0>]"
      ]
     },
     "execution_count": 374,
     "metadata": {},
     "output_type": "execute_result"
    },
    {
     "data": {
      "image/png": "[encoded data removed]",
      "text/plain": [
       "<Figure size 432x288 with 1 Axes>"
      ]
     },
     "metadata": {
      "needs_background": "light"
     },
     "output_type": "display_data"
    }
   ],
   "source": [
    "import matplotlib.pyplot as plt\n",
    "import matplotlib.ticker as ticker\n",
    "\n",
    "plt.figure()\n",
    "plt.plot(all_losses)"
   ]
  },
  {
   "cell_type": "code",
   "execution_count": 375,
   "metadata": {},
   "outputs": [
    {
     "name": "stderr",
     "output_type": "stream",
     "text": [
      "/home/docker/.local/lib/python3.6/site-packages/ipykernel_launcher.py:33: UserWarning: FixedFormatter should only be used together with FixedLocator\n",
      "/home/docker/.local/lib/python3.6/site-packages/ipykernel_launcher.py:34: UserWarning: FixedFormatter should only be used together with FixedLocator\n"
     ]
    },
    {
     "data": {
      "image/png": "[encoded data removed]",
      "text/plain": [
       "<Figure size 432x288 with 2 Axes>"
      ]
     },
     "metadata": {
      "needs_background": "light"
     },
     "output_type": "display_data"
    }
   ],
   "source": [
    "# Keep track of correct guesses in a confusion matrix\n",
    "confusion = torch.zeros(n_categories, n_categories)\n",
    "n_confusion = 10000\n",
    "\n",
    "# Just return an output given a line\n",
    "def evaluate(line_tensor):\n",
    "    hidden = rnn.initHidden()\n",
    "\n",
    "    for i in range(line_tensor.size()[0]):\n",
    "        output, hidden = rnn(line_tensor[i], hidden)\n",
    "\n",
    "    return output\n",
    "\n",
    "# Go through a bunch of examples and record which are correctly guessed\n",
    "for i in range(n_confusion):\n",
    "    category, line, category_tensor, line_tensor = randomTrainingExample()\n",
    "    output = evaluate(line_tensor)\n",
    "    guess, guess_i = categoryFromOutput(output)\n",
    "    category_i = all_categories.index(category)\n",
    "    confusion[category_i][guess_i] += 1\n",
    "\n",
    "# Normalize by dividing every row by its sum\n",
    "for i in range(n_categories):\n",
    "    confusion[i] = confusion[i] / confusion[i].sum()\n",
    "\n",
    "# Set up plot\n",
    "fig = plt.figure()\n",
    "ax = fig.add_subplot(111)\n",
    "cax = ax.matshow(confusion.numpy())\n",
    "fig.colorbar(cax)\n",
    "\n",
    "# Set up axes\n",
    "ax.set_xticklabels([''] + all_categories, rotation=90)\n",
    "ax.set_yticklabels([''] + all_categories)\n",
    "\n",
    "# Force label at every tick\n",
    "ax.xaxis.set_major_locator(ticker.MultipleLocator(1))\n",
    "ax.yaxis.set_major_locator(ticker.MultipleLocator(1))\n",
    "\n",
    "# sphinx_gallery_thumbnail_number = 2\n",
    "plt.show()"
   ]
  },
  {
   "cell_type": "code",
   "execution_count": 372,
   "metadata": {},
   "outputs": [],
   "source": [
    "def predict(input_line, n_predictions=3):\n",
    "    print('\\n> %s' % input_line)\n",
    "    with torch.no_grad():\n",
    "        output = evaluate(lineToTensor(input_line))\n",
    "\n",
    "        # Get top N categories\n",
    "        topv, topi = output.topk(n_predictions, 1, True)\n",
    "        predictions = []\n",
    "\n",
    "        for i in range(n_predictions):\n",
    "            value = topv[0][i].item()\n",
    "            category_index = topi[0][i].item()\n",
    "            print('(%.2f) %s' % (value, all_categories[category_index]))\n",
    "            predictions.append([value, all_categories[category_index]])"
   ]
  },
  {
   "cell_type": "markdown",
   "metadata": {},
   "source": [
    "### LSTM Approach"
   ]
  },
  {
   "cell_type": "code",
   "execution_count": 328,
   "metadata": {},
   "outputs": [],
   "source": [
    "import torch.nn.functional as F\n",
    "\n",
    "class LSTM(nn.Module):\n",
    "\n",
    "    def __init__(self, embedding_dim, hidden_dim, vocab_size, tagset_size):\n",
    "        ''' Initialize the layers of this model.'''\n",
    "        super(LSTM, self).__init__()\n",
    "        \n",
    "        self.hidden_dim = hidden_dim\n",
    "\n",
    "        # embedding layer that turns words into a vector of a specified size\n",
    "        self.word_embeddings = nn.Embedding(vocab_size, embedding_dim)\n",
    "\n",
    "        # the LSTM takes embedded word vectors (of a specified size) as inputs \n",
    "        # and outputs hidden states of size hidden_dim\n",
    "        self.lstm = nn.LSTM(embedding_dim, hidden_dim)\n",
    "\n",
    "        # the linear layer that maps the hidden state output dimension \n",
    "        # to the number of tags we want as output, tagset_size (in this case this is 3 tags)\n",
    "        self.hidden2tag = nn.Linear(hidden_dim, tagset_size)\n",
    "        \n",
    "        # initialize the hidden state (see code below)\n",
    "        self.hidden = self.init_hidden()\n",
    "\n",
    "        \n",
    "    def init_hidden(self):\n",
    "        ''' At the start of training, we need to initialize a hidden state;\n",
    "           there will be none because the hidden state is formed based on perviously seen data.\n",
    "           So, this function defines a hidden state with all zeroes and of a specified size.'''\n",
    "        # The axes dimensions are (n_layers, batch_size, hidden_dim)\n",
    "        return (torch.zeros(1, 1, self.hidden_dim),\n",
    "                torch.zeros(1, 1, self.hidden_dim))\n",
    "\n",
    "    def forward(self, sentence):\n",
    "        ''' Define the feedforward behavior of the model.'''\n",
    "        # create embedded word vectors for each word in a sentence\n",
    "        embeds = self.word_embeddings(sentence)\n",
    "        \n",
    "        # get the output and hidden state by passing the lstm over our word embeddings\n",
    "        # the lstm takes in our embeddings and hiddent state\n",
    "        lstm_out, self.hidden = self.lstm(\n",
    "            embeds.view(len(sentence), 1, -1), self.hidden)\n",
    "        \n",
    "        # get the scores for the most likely tag for a word\n",
    "        tag_outputs = self.hidden2tag(lstm_out.view(len(sentence), -1))\n",
    "        tag_scores = F.log_softmax(tag_outputs, dim=1)\n",
    "        \n",
    "        return tag_scores"
   ]
  },
  {
   "cell_type": "code",
   "execution_count": 329,
   "metadata": {},
   "outputs": [],
   "source": [
    "EMBEDDING_DIM = 6\n",
    "HIDDEN_DIM = 6\n",
    "\n",
    "model = LSTM(EMBEDDING_DIM, HIDDEN_DIM, len(unique_pairs), len(all_categories))\n",
    "loss_function = nn.NLLLoss()\n",
    "optimizer = optim.SGD(model.parameters(), lr=0.1)"
   ]
  },
  {
   "cell_type": "code",
   "execution_count": 347,
   "metadata": {},
   "outputs": [
    {
     "name": "stdout",
     "output_type": "stream",
     "text": [
      "dfpmamuhoasaucqvuhskvienuhlemvenuhxepmuhskpmpmamskiwmvamypuhultwtwdfxyuhoaqvkruhskvikrpmleuhiwiwenuhypmviwpmlexeuhulenamuluhqvtwlekrulentwleypuhsktwlrvimvdfuhtwiwtvmvqvmvmkviiguhoatwlekronenuhtwamuluh torch.Size([200])\n",
      "torch.Size([12])\n",
      "moby_dick\n",
      "tensor(7)\n"
     ]
    }
   ],
   "source": [
    "\n",
    "def lineToIndex(line):\n",
    "    tensor = torch.zeros(len(line), dtype=torch.long)\n",
    "    for li, pair in enumerate(lineToPairs(line)):\n",
    "        tensor[li] = pairToIndex(pair)\n",
    "    return tensor\n",
    "\n",
    "def randomTrainingExample():\n",
    "    category = randomChoice(all_categories)\n",
    "    line = randomChoice(category_lines[category])\n",
    "    category_tensor = torch.tensor(all_categories.index(category), dtype=torch.long)\n",
    "    line_tensor = lineToIndex(line)\n",
    "    return category, line, category_tensor, line_tensor\n",
    "\n",
    "# See what the scores are before training\n",
    "# Note that element i,j of the output is the score for tag j for word i.\n",
    "# Here we don't need to train, so the code is wrapped in torch.no_grad()\n",
    "with torch.no_grad():\n",
    "    category, line, category_tensor, inputs = randomTrainingExample()\n",
    "    print(line, inputs.shape)\n",
    "    tag_scores = model(inputs)\n",
    "    print(tag_scores[-1].shape)\n",
    "    print(category)\n",
    "    print(category_tensor)"
   ]
  },
  {
   "cell_type": "code",
   "execution_count": 358,
   "metadata": {},
   "outputs": [
    {
     "ename": "RuntimeError",
     "evalue": "Trying to backward through the graph a second time, but the saved intermediate results have already been freed. Specify retain_graph=True when calling backward the first time.",
     "output_type": "error",
     "traceback": [
      "\u001b[0;31m---------------------------------------------------------------------------\u001b[0m",
      "\u001b[0;31mRuntimeError\u001b[0m                              Traceback (most recent call last)",
      "\u001b[0;32m<ipython-input-358-00390a29da17>\u001b[0m in \u001b[0;36m<module>\u001b[0;34m\u001b[0m\n\u001b[1;32m     15\u001b[0m     \u001b[0;31m# )\u001b[0m\u001b[0;34m\u001b[0m\u001b[0;34m\u001b[0m\u001b[0;34m\u001b[0m\u001b[0m\n\u001b[1;32m     16\u001b[0m     \u001b[0mloss\u001b[0m \u001b[0;34m=\u001b[0m \u001b[0mloss_function\u001b[0m\u001b[0;34m(\u001b[0m\u001b[0mtag_scores\u001b[0m\u001b[0;34m[\u001b[0m\u001b[0;34m-\u001b[0m\u001b[0;36m1\u001b[0m\u001b[0;34m]\u001b[0m\u001b[0;34m.\u001b[0m\u001b[0mview\u001b[0m\u001b[0;34m(\u001b[0m\u001b[0;36m1\u001b[0m\u001b[0;34m,\u001b[0m \u001b[0;34m-\u001b[0m\u001b[0;36m1\u001b[0m\u001b[0;34m)\u001b[0m\u001b[0;34m,\u001b[0m \u001b[0mcategory_tensor\u001b[0m\u001b[0;34m.\u001b[0m\u001b[0mview\u001b[0m\u001b[0;34m(\u001b[0m\u001b[0;36m1\u001b[0m\u001b[0;34m)\u001b[0m\u001b[0;34m)\u001b[0m\u001b[0;34m\u001b[0m\u001b[0;34m\u001b[0m\u001b[0m\n\u001b[0;32m---> 17\u001b[0;31m     \u001b[0mloss\u001b[0m\u001b[0;34m.\u001b[0m\u001b[0mbackward\u001b[0m\u001b[0;34m(\u001b[0m\u001b[0mretain_graph\u001b[0m\u001b[0;34m=\u001b[0m\u001b[0;32mTrue\u001b[0m\u001b[0;34m)\u001b[0m\u001b[0;34m\u001b[0m\u001b[0;34m\u001b[0m\u001b[0m\n\u001b[0m\u001b[1;32m     18\u001b[0m     \u001b[0moptimizer\u001b[0m\u001b[0;34m.\u001b[0m\u001b[0mstep\u001b[0m\u001b[0;34m(\u001b[0m\u001b[0;34m)\u001b[0m\u001b[0;34m\u001b[0m\u001b[0;34m\u001b[0m\u001b[0m\n",
      "\u001b[0;32m~/.local/lib/python3.6/site-packages/torch/tensor.py\u001b[0m in \u001b[0;36mbackward\u001b[0;34m(self, gradient, retain_graph, create_graph)\u001b[0m\n\u001b[1;32m    183\u001b[0m                 \u001b[0mproducts\u001b[0m\u001b[0;34m.\u001b[0m \u001b[0mDefaults\u001b[0m \u001b[0mto\u001b[0m\u001b[0;31m \u001b[0m\u001b[0;31m`\u001b[0m\u001b[0;31m`\u001b[0m\u001b[0;32mFalse\u001b[0m\u001b[0;31m`\u001b[0m\u001b[0;31m`\u001b[0m\u001b[0;34m.\u001b[0m\u001b[0;34m\u001b[0m\u001b[0;34m\u001b[0m\u001b[0m\n\u001b[1;32m    184\u001b[0m         \"\"\"\n\u001b[0;32m--> 185\u001b[0;31m         \u001b[0mtorch\u001b[0m\u001b[0;34m.\u001b[0m\u001b[0mautograd\u001b[0m\u001b[0;34m.\u001b[0m\u001b[0mbackward\u001b[0m\u001b[0;34m(\u001b[0m\u001b[0mself\u001b[0m\u001b[0;34m,\u001b[0m \u001b[0mgradient\u001b[0m\u001b[0;34m,\u001b[0m \u001b[0mretain_graph\u001b[0m\u001b[0;34m,\u001b[0m \u001b[0mcreate_graph\u001b[0m\u001b[0;34m)\u001b[0m\u001b[0;34m\u001b[0m\u001b[0;34m\u001b[0m\u001b[0m\n\u001b[0m\u001b[1;32m    186\u001b[0m \u001b[0;34m\u001b[0m\u001b[0m\n\u001b[1;32m    187\u001b[0m     \u001b[0;32mdef\u001b[0m \u001b[0mregister_hook\u001b[0m\u001b[0;34m(\u001b[0m\u001b[0mself\u001b[0m\u001b[0;34m,\u001b[0m \u001b[0mhook\u001b[0m\u001b[0;34m)\u001b[0m\u001b[0;34m:\u001b[0m\u001b[0;34m\u001b[0m\u001b[0;34m\u001b[0m\u001b[0m\n",
      "\u001b[0;32m~/.local/lib/python3.6/site-packages/torch/autograd/__init__.py\u001b[0m in \u001b[0;36mbackward\u001b[0;34m(tensors, grad_tensors, retain_graph, create_graph, grad_variables)\u001b[0m\n\u001b[1;32m    125\u001b[0m     Variable._execution_engine.run_backward(\n\u001b[1;32m    126\u001b[0m         \u001b[0mtensors\u001b[0m\u001b[0;34m,\u001b[0m \u001b[0mgrad_tensors\u001b[0m\u001b[0;34m,\u001b[0m \u001b[0mretain_graph\u001b[0m\u001b[0;34m,\u001b[0m \u001b[0mcreate_graph\u001b[0m\u001b[0;34m,\u001b[0m\u001b[0;34m\u001b[0m\u001b[0;34m\u001b[0m\u001b[0m\n\u001b[0;32m--> 127\u001b[0;31m         allow_unreachable=True)  # allow_unreachable flag\n\u001b[0m\u001b[1;32m    128\u001b[0m \u001b[0;34m\u001b[0m\u001b[0m\n\u001b[1;32m    129\u001b[0m \u001b[0;34m\u001b[0m\u001b[0m\n",
      "\u001b[0;31mRuntimeError\u001b[0m: Trying to backward through the graph a second time, but the saved intermediate results have already been freed. Specify retain_graph=True when calling backward the first time."
     ]
    }
   ],
   "source": [
    "for setps in range(300):  # again, normally you would NOT do 300 epochs, it is toy data\n",
    "    _, _, category_tensor, inputs = randomTrainingExample()\n",
    "\n",
    "    # Step 1. Remember that Pytorch accumulates gradients.\n",
    "    # We need to clear them out before each instance\n",
    "    model.zero_grad()\n",
    "\n",
    "    # Step 3. Run our forward pass.\n",
    "    tag_scores = model(inputs)\n",
    "\n",
    "    # Step 4. Compute the loss, gradients, and update the parameters by\n",
    "    #  calling optimizer.step()\n",
    "    # loss = loss_function(\n",
    "    #     tag_scores, category_tensor.repeat(tag_scores.shape[0])\n",
    "    # )\n",
    "    loss = loss_function(tag_scores[-1].view(1, -1), category_tensor.view(1))\n",
    "    loss.backward()\n",
    "    optimizer.step()"
   ]
  },
  {
   "cell_type": "code",
   "execution_count": 376,
   "metadata": {},
   "outputs": [],
   "source": [
    "# even with .backwards(retain_graph=True) the same error appears.\n",
    "# couldn't find a fix so far, hence not able to continue with lstms\n",
    "# for now."
   ]
  },
  {
   "cell_type": "code",
   "execution_count": null,
   "metadata": {},
   "outputs": [],
   "source": [
    "# See what the scores are after training\n",
    "with torch.no_grad():\n",
    "    inputs = prepare_sequence(training_data[0][0], word_to_ix)\n",
    "    tag_scores = model(inputs)\n",
    "\n",
    "    # The sentence is \"the dog ate the apple\".  i,j corresponds to score for tag j\n",
    "    # for word i. The predicted tag is the maximum scoring tag.\n",
    "    # Here, we can see the predicted sequence below is 0 1 2 0 1\n",
    "    # since 0 is index of the maximum value of row 1,\n",
    "    # 1 is the index of maximum value of row 2, etc.\n",
    "    # Which is DET NOUN VERB DET NOUN, the correct sequence!\n",
    "    print(tag_scores)"
   ]
  },
  {
   "cell_type": "markdown",
   "metadata": {},
   "source": [
    "## Character-level CNN Approach"
   ]
  },
  {
   "cell_type": "code",
   "execution_count": 277,
   "metadata": {},
   "outputs": [],
   "source": [
    "train_file_data = pd.DataFrame(\n",
    "    {\n",
    "        'lables': y_train.astype(str), 'text': X_train\n",
    "    }\n",
    ")\n",
    "valid_file_data = pd.DataFrame(\n",
    "    {\n",
    "        'lables': y_valid.astype(str), 'text': X_valid\n",
    "    }\n",
    ")"
   ]
  },
  {
   "cell_type": "code",
   "execution_count": 278,
   "metadata": {},
   "outputs": [],
   "source": [
    "train_file_data.to_csv(\"../data/train.csv\", index=False, header=False)\n",
    "valid_file_data.to_csv(\"../data/valid.csv\", index=False, header=False)"
   ]
  },
  {
   "cell_type": "code",
   "execution_count": 279,
   "metadata": {},
   "outputs": [
    {
     "name": "stdout",
     "output_type": "stream",
     "text": [
      "total 21M\r\n",
      "-rw-r--r-- 1 docker docker 4.3M Sep 24 13:04 train.csv\r\n",
      "-rw-r--r-- 1 docker docker 2.1M Sep 24 13:04 valid.csv\r\n",
      "-rw-r--r-- 1 docker docker 1.2M Jul 19  2017 xtest_obfuscated.txt\r\n",
      "-rw-r--r-- 1 docker docker  13M Jul 19  2017 xtrain_obfuscated.txt\r\n",
      "-rw-r--r-- 1 docker docker  68K Jul 19  2017 ytrain.txt\r\n"
     ]
    }
   ],
   "source": [
    "!ls -lh ../data"
   ]
  },
  {
   "cell_type": "markdown",
   "metadata": {},
   "source": [
    "to run the char-level cnn clone the repo `github.com/cmayrhofer/char-cnn-text-classification-pytorch` (a modified fork of `github.com/srviest/char-cnn-text-classification-pytorch` implementing `https://arxiv.org/pdf/1509.01626.pdf`) and execute the training with the following commands:\n",
    "\n",
    "```\n",
    "git clone git@github.com:cmayrhofer/char-cnn-text-classification-pytorch.git\n",
    "\n",
    "cd har-cnn-text-classification-pytorch\n",
    "\n",
    "python train.py --train_path ../data/train.csv --val_path ../data/valid.csv --alphabet_path alphabet_a-z.json\n",
    "```\n",
    "\n",
    "To run the predictions on the file:\n",
    "\n",
    "```\n",
    "python predict.py --val_path ../data/xtest_obfuscated.txt --alphabet_path alphabet_a-z.json\n",
    "```"
   ]
  },
  {
   "cell_type": "markdown",
   "metadata": {},
   "source": [
    "## Embedding Bag Approach"
   ]
  },
  {
   "cell_type": "code",
   "execution_count": 58,
   "metadata": {},
   "outputs": [],
   "source": [
    "max_line_length = None\n",
    "X = np.array([line[:max_line_length] for line in train_data])\n",
    "y = train_labels\n",
    "\n",
    "X_train, X_valid, y_train, y_valid = train_test_split(\n",
    "    X, y, test_size=0.2, random_state=42\n",
    ")\n"
   ]
  },
  {
   "cell_type": "code",
   "execution_count": 68,
   "metadata": {},
   "outputs": [],
   "source": [
    "import torch\n",
    "import torchtext\n",
    "from torchtext.datasets import text_classification\n",
    "import os\n",
    "# if not os.path.isdir('./.data'):\n",
    "#     os.mkdir('./.data')\n",
    "# train_dataset, test_dataset = text_classification.DATASETS['AG_NEWS'](\n",
    "#     root='./.data', ngrams=NGRAMS, vocab=None)\n",
    "BATCH_SIZE = 16*2\n",
    "device = torch.device(\"cuda\" if torch.cuda.is_available() else \"cpu\")"
   ]
  },
  {
   "cell_type": "code",
   "execution_count": 78,
   "metadata": {},
   "outputs": [],
   "source": [
    "def lineToIndices(line):\n",
    "    pairs = [line[i:i + 2] for i, _ in enumerate(line) if i % 2 == 0]\n",
    "    return [pairToIndex(pair) for pair in pairs]\n",
    "\n",
    "\n",
    "def dataset_gen(X, y):\n",
    "    return [\n",
    "        (\n",
    "            torch.tensor(label, dtype=torch.long),\n",
    "            torch.tensor(lineToIndices(line))\n",
    "        ) for label, line in zip(y, X)\n",
    "    ]\n",
    "    \n",
    "\n",
    "train_dataset = dataset_gen(X_train, y_train)\n",
    "valid_dataset = dataset_gen(X_valid, y_valid)\n",
    "test_dataset = [\n",
    "    (torch.tensor(0, dtype=torch.long), torch.tensor(lineToIndices(line))) for line in test_data\n",
    "]"
   ]
  },
  {
   "cell_type": "code",
   "execution_count": 70,
   "metadata": {},
   "outputs": [],
   "source": [
    "import torch.nn as nn\n",
    "import torch.nn.functional as F\n",
    "\n",
    "class TextAuthor(nn.Module):\n",
    "    def __init__(self, vocab_size, embed_dim, num_class):\n",
    "        super().__init__()\n",
    "        self.embedding = nn.EmbeddingBag(vocab_size, embed_dim, sparse=True)\n",
    "        self.fc = nn.Linear(embed_dim, num_class)\n",
    "        self.init_weights()\n",
    "\n",
    "    def init_weights(self):\n",
    "        initrange = 0.5\n",
    "        self.embedding.weight.data.uniform_(-initrange, initrange)\n",
    "        self.fc.weight.data.uniform_(-initrange, initrange)\n",
    "        self.fc.bias.data.zero_()\n",
    "\n",
    "    def forward(self, text, offsets):\n",
    "        embedded = self.embedding(text, offsets)\n",
    "        return self.fc(embedded)\n",
    "\n",
    "class TextAuthorPlusHidden(nn.Module):\n",
    "    def __init__(self, vocab_size, embed_dim, num_class, hidden_dim=128):\n",
    "        super().__init__()\n",
    "        self.embedding = nn.EmbeddingBag(vocab_size, embed_dim, sparse=True)\n",
    "        self.fc1 = nn.Linear(embed_dim, hidden_dim)\n",
    "        self.fc2 = nn.Linear(hidden_dim, num_class)\n",
    "        self.relu = nn.ReLU()\n",
    "        self.elu = nn.ELU()\n",
    "        \n",
    "        self.init_weights()\n",
    "\n",
    "    def init_weights(self):\n",
    "        initrange = 0.5\n",
    "        self.embedding.weight.data.uniform_(-initrange, initrange)\n",
    "        self.fc1.weight.data.uniform_(-initrange, initrange)\n",
    "        self.fc1.bias.data.zero_()\n",
    "        self.fc2.weight.data.uniform_(-initrange, initrange)\n",
    "        self.fc2.bias.data.zero_()\n",
    "\n",
    "    def forward(self, text, offsets):\n",
    "        embedded = self.embedding(text, offsets)\n",
    "        x = self.relu(self.fc1(embedded))\n",
    "        return self.fc2(x)"
   ]
  },
  {
   "cell_type": "code",
   "execution_count": 71,
   "metadata": {},
   "outputs": [],
   "source": [
    "VOCAB_SIZE = len(unique_pairs)\n",
    "EMBED_DIM = 64\n",
    "NUN_CLASS = len(class_distribution)\n",
    "# model = TextAuthor(VOCAB_SIZE, EMBED_DIM, NUN_CLASS).to(device)\n",
    "model = TextAuthorPlusHidden(VOCAB_SIZE, EMBED_DIM, NUN_CLASS).to(device)"
   ]
  },
  {
   "cell_type": "code",
   "execution_count": 72,
   "metadata": {},
   "outputs": [],
   "source": [
    "def generate_batch(batch):\n",
    "    label = torch.tensor([entry[0] for entry in batch])\n",
    "    text = [entry[1] for entry in batch]\n",
    "    offsets = [0] + [len(entry) for entry in text]\n",
    "    # torch.Tensor.cumsum returns the cumulative sum\n",
    "    # of elements in the dimension dim.\n",
    "    # torch.Tensor([1.0, 2.0, 3.0]).cumsum(dim=0)\n",
    "\n",
    "    offsets = torch.tensor(offsets[:-1]).cumsum(dim=0)\n",
    "    text = torch.cat(text)\n",
    "    return text, offsets, label"
   ]
  },
  {
   "cell_type": "code",
   "execution_count": 85,
   "metadata": {},
   "outputs": [],
   "source": [
    "from torch.utils.data import DataLoader\n",
    "\n",
    "def train_func(sub_train_):\n",
    "\n",
    "    # Train the model\n",
    "    train_loss = 0\n",
    "    train_acc = 0\n",
    "    data = DataLoader(sub_train_, batch_size=BATCH_SIZE, shuffle=True,\n",
    "                      collate_fn=generate_batch)\n",
    "    for i, (text, offsets, cls) in enumerate(data):\n",
    "        optimizer.zero_grad()\n",
    "        text, offsets, cls = text.to(device), offsets.to(device), cls.to(device)\n",
    "        output = model(text, offsets)\n",
    "        loss = criterion(output, cls)\n",
    "        train_loss += loss.item()\n",
    "        loss.backward()\n",
    "        optimizer.step()\n",
    "        train_acc += (output.argmax(1) == cls).sum().item()\n",
    "\n",
    "    # Adjust the learning rate\n",
    "    scheduler.step()\n",
    "\n",
    "    return train_loss / len(sub_train_), train_acc / len(sub_train_)\n",
    "\n",
    "def test(data_):\n",
    "    loss = 0\n",
    "    acc = 0\n",
    "    data = DataLoader(data_, batch_size=BATCH_SIZE, collate_fn=generate_batch)\n",
    "    for text, offsets, cls in data:\n",
    "        text, offsets, cls = text.to(device), offsets.to(device), cls.to(device)\n",
    "        with torch.no_grad():\n",
    "            output = model(text, offsets)\n",
    "            loss = criterion(output, cls)\n",
    "            loss += loss.item()\n",
    "            acc += (output.argmax(1) == cls).sum().item()\n",
    "\n",
    "    return loss / len(data_), acc / len(data_)\n",
    "\n",
    "def predict(data_):\n",
    "    data = DataLoader(data_, batch_size=BATCH_SIZE, collate_fn=generate_batch)\n",
    "    scores, labels = list(), list()\n",
    "    for text, offsets, _ in data:\n",
    "        text, offsets = text.to(device), offsets.to(device)\n",
    "        with torch.no_grad():\n",
    "            output_ = torch.exp(model(text, offsets)).topk(5)\n",
    "        scores.append(output_[0].numpy())\n",
    "        labels.append(output_[1].numpy())\n",
    "    return np.vstack(scores), np.vstack(labels)"
   ]
  },
  {
   "cell_type": "code",
   "execution_count": 83,
   "metadata": {},
   "outputs": [
    {
     "name": "stdout",
     "output_type": "stream",
     "text": [
      "Epoch: 1  | time in 0 minutes, 2 seconds\n",
      "\tLoss: 0.0448(train)\t|\tAcc: 50.9%(train)\n",
      "\tLoss: 0.0003(valid)\t|\tAcc: 49.4%(valid)\n",
      "Epoch: 2  | time in 0 minutes, 2 seconds\n",
      "\tLoss: 0.0426(train)\t|\tAcc: 52.6%(train)\n",
      "\tLoss: 0.0004(valid)\t|\tAcc: 52.0%(valid)\n",
      "Epoch: 3  | time in 0 minutes, 2 seconds\n",
      "\tLoss: 0.0424(train)\t|\tAcc: 52.7%(train)\n",
      "\tLoss: 0.0004(valid)\t|\tAcc: 51.7%(valid)\n",
      "Epoch: 4  | time in 0 minutes, 2 seconds\n",
      "\tLoss: 0.0412(train)\t|\tAcc: 53.7%(train)\n",
      "\tLoss: 0.0004(valid)\t|\tAcc: 46.5%(valid)\n",
      "Epoch: 5  | time in 0 minutes, 2 seconds\n",
      "\tLoss: 0.0408(train)\t|\tAcc: 54.6%(train)\n",
      "\tLoss: 0.0005(valid)\t|\tAcc: 52.3%(valid)\n",
      "Epoch: 6  | time in 0 minutes, 2 seconds\n",
      "\tLoss: 0.0410(train)\t|\tAcc: 54.7%(train)\n",
      "\tLoss: 0.0004(valid)\t|\tAcc: 52.5%(valid)\n",
      "Epoch: 7  | time in 0 minutes, 2 seconds\n",
      "\tLoss: 0.0401(train)\t|\tAcc: 55.5%(train)\n",
      "\tLoss: 0.0004(valid)\t|\tAcc: 51.3%(valid)\n",
      "Epoch: 8  | time in 0 minutes, 2 seconds\n",
      "\tLoss: 0.0399(train)\t|\tAcc: 55.3%(train)\n",
      "\tLoss: 0.0003(valid)\t|\tAcc: 54.8%(valid)\n",
      "Epoch: 9  | time in 0 minutes, 2 seconds\n",
      "\tLoss: 0.0394(train)\t|\tAcc: 55.8%(train)\n",
      "\tLoss: 0.0003(valid)\t|\tAcc: 53.1%(valid)\n",
      "Epoch: 10  | time in 0 minutes, 2 seconds\n",
      "\tLoss: 0.0391(train)\t|\tAcc: 56.1%(train)\n",
      "\tLoss: 0.0004(valid)\t|\tAcc: 51.1%(valid)\n",
      "Epoch: 11  | time in 0 minutes, 2 seconds\n",
      "\tLoss: 0.0388(train)\t|\tAcc: 56.3%(train)\n",
      "\tLoss: 0.0004(valid)\t|\tAcc: 52.4%(valid)\n",
      "Epoch: 12  | time in 0 minutes, 1 seconds\n",
      "\tLoss: 0.0387(train)\t|\tAcc: 56.6%(train)\n",
      "\tLoss: 0.0004(valid)\t|\tAcc: 54.2%(valid)\n",
      "Epoch: 13  | time in 0 minutes, 1 seconds\n",
      "\tLoss: 0.0385(train)\t|\tAcc: 57.2%(train)\n",
      "\tLoss: 0.0003(valid)\t|\tAcc: 54.9%(valid)\n",
      "Epoch: 14  | time in 0 minutes, 1 seconds\n",
      "\tLoss: 0.0383(train)\t|\tAcc: 57.0%(train)\n",
      "\tLoss: 0.0004(valid)\t|\tAcc: 53.4%(valid)\n",
      "Epoch: 15  | time in 0 minutes, 1 seconds\n",
      "\tLoss: 0.0380(train)\t|\tAcc: 57.5%(train)\n",
      "\tLoss: 0.0004(valid)\t|\tAcc: 55.3%(valid)\n",
      "Epoch: 16  | time in 0 minutes, 2 seconds\n",
      "\tLoss: 0.0380(train)\t|\tAcc: 57.4%(train)\n",
      "\tLoss: 0.0003(valid)\t|\tAcc: 54.7%(valid)\n",
      "Epoch: 17  | time in 0 minutes, 1 seconds\n",
      "\tLoss: 0.0376(train)\t|\tAcc: 57.7%(train)\n",
      "\tLoss: 0.0004(valid)\t|\tAcc: 51.7%(valid)\n",
      "Epoch: 18  | time in 0 minutes, 1 seconds\n",
      "\tLoss: 0.0375(train)\t|\tAcc: 57.8%(train)\n",
      "\tLoss: 0.0004(valid)\t|\tAcc: 54.9%(valid)\n",
      "Epoch: 19  | time in 0 minutes, 1 seconds\n",
      "\tLoss: 0.0373(train)\t|\tAcc: 57.9%(train)\n",
      "\tLoss: 0.0003(valid)\t|\tAcc: 55.3%(valid)\n",
      "Epoch: 20  | time in 0 minutes, 1 seconds\n",
      "\tLoss: 0.0371(train)\t|\tAcc: 58.3%(train)\n",
      "\tLoss: 0.0003(valid)\t|\tAcc: 53.7%(valid)\n",
      "Epoch: 21  | time in 0 minutes, 2 seconds\n",
      "\tLoss: 0.0369(train)\t|\tAcc: 58.3%(train)\n",
      "\tLoss: 0.0004(valid)\t|\tAcc: 54.0%(valid)\n",
      "Epoch: 22  | time in 0 minutes, 1 seconds\n",
      "\tLoss: 0.0368(train)\t|\tAcc: 58.5%(train)\n",
      "\tLoss: 0.0004(valid)\t|\tAcc: 49.5%(valid)\n",
      "Epoch: 23  | time in 0 minutes, 1 seconds\n",
      "\tLoss: 0.0366(train)\t|\tAcc: 58.8%(train)\n",
      "\tLoss: 0.0003(valid)\t|\tAcc: 54.6%(valid)\n",
      "Epoch: 24  | time in 0 minutes, 1 seconds\n",
      "\tLoss: 0.0364(train)\t|\tAcc: 59.4%(train)\n",
      "\tLoss: 0.0003(valid)\t|\tAcc: 53.3%(valid)\n",
      "Epoch: 25  | time in 0 minutes, 1 seconds\n",
      "\tLoss: 0.0363(train)\t|\tAcc: 59.4%(train)\n",
      "\tLoss: 0.0003(valid)\t|\tAcc: 55.7%(valid)\n",
      "Epoch: 26  | time in 0 minutes, 2 seconds\n",
      "\tLoss: 0.0362(train)\t|\tAcc: 59.2%(train)\n",
      "\tLoss: 0.0003(valid)\t|\tAcc: 55.6%(valid)\n",
      "Epoch: 27  | time in 0 minutes, 1 seconds\n",
      "\tLoss: 0.0361(train)\t|\tAcc: 59.2%(train)\n",
      "\tLoss: 0.0003(valid)\t|\tAcc: 53.0%(valid)\n",
      "Epoch: 28  | time in 0 minutes, 1 seconds\n",
      "\tLoss: 0.0359(train)\t|\tAcc: 59.7%(train)\n",
      "\tLoss: 0.0003(valid)\t|\tAcc: 53.2%(valid)\n",
      "Epoch: 29  | time in 0 minutes, 2 seconds\n",
      "\tLoss: 0.0358(train)\t|\tAcc: 59.9%(train)\n",
      "\tLoss: 0.0004(valid)\t|\tAcc: 51.3%(valid)\n",
      "Epoch: 30  | time in 0 minutes, 2 seconds\n",
      "\tLoss: 0.0357(train)\t|\tAcc: 60.1%(train)\n",
      "\tLoss: 0.0003(valid)\t|\tAcc: 56.1%(valid)\n",
      "Epoch: 31  | time in 0 minutes, 2 seconds\n",
      "\tLoss: 0.0355(train)\t|\tAcc: 59.8%(train)\n",
      "\tLoss: 0.0003(valid)\t|\tAcc: 56.1%(valid)\n",
      "Epoch: 32  | time in 0 minutes, 2 seconds\n",
      "\tLoss: 0.0355(train)\t|\tAcc: 60.3%(train)\n",
      "\tLoss: 0.0003(valid)\t|\tAcc: 56.2%(valid)\n",
      "Epoch: 33  | time in 0 minutes, 2 seconds\n",
      "\tLoss: 0.0354(train)\t|\tAcc: 60.1%(train)\n",
      "\tLoss: 0.0003(valid)\t|\tAcc: 54.8%(valid)\n",
      "Epoch: 34  | time in 0 minutes, 2 seconds\n",
      "\tLoss: 0.0352(train)\t|\tAcc: 60.2%(train)\n",
      "\tLoss: 0.0003(valid)\t|\tAcc: 54.9%(valid)\n",
      "Epoch: 35  | time in 0 minutes, 1 seconds\n",
      "\tLoss: 0.0352(train)\t|\tAcc: 60.4%(train)\n",
      "\tLoss: 0.0003(valid)\t|\tAcc: 55.7%(valid)\n",
      "Epoch: 36  | time in 0 minutes, 1 seconds\n",
      "\tLoss: 0.0350(train)\t|\tAcc: 60.9%(train)\n",
      "\tLoss: 0.0003(valid)\t|\tAcc: 55.0%(valid)\n",
      "Epoch: 37  | time in 0 minutes, 1 seconds\n",
      "\tLoss: 0.0350(train)\t|\tAcc: 61.0%(train)\n",
      "\tLoss: 0.0003(valid)\t|\tAcc: 53.7%(valid)\n",
      "Epoch: 38  | time in 0 minutes, 2 seconds\n",
      "\tLoss: 0.0349(train)\t|\tAcc: 60.9%(train)\n",
      "\tLoss: 0.0003(valid)\t|\tAcc: 56.0%(valid)\n",
      "Epoch: 39  | time in 0 minutes, 2 seconds\n",
      "\tLoss: 0.0347(train)\t|\tAcc: 61.1%(train)\n",
      "\tLoss: 0.0003(valid)\t|\tAcc: 55.9%(valid)\n",
      "Epoch: 40  | time in 0 minutes, 2 seconds\n",
      "\tLoss: 0.0347(train)\t|\tAcc: 61.0%(train)\n",
      "\tLoss: 0.0003(valid)\t|\tAcc: 55.4%(valid)\n",
      "Epoch: 41  | time in 0 minutes, 2 seconds\n",
      "\tLoss: 0.0346(train)\t|\tAcc: 61.0%(train)\n",
      "\tLoss: 0.0003(valid)\t|\tAcc: 54.7%(valid)\n",
      "Epoch: 42  | time in 0 minutes, 2 seconds\n",
      "\tLoss: 0.0345(train)\t|\tAcc: 61.4%(train)\n",
      "\tLoss: 0.0003(valid)\t|\tAcc: 55.5%(valid)\n",
      "Epoch: 43  | time in 0 minutes, 2 seconds\n",
      "\tLoss: 0.0344(train)\t|\tAcc: 61.4%(train)\n",
      "\tLoss: 0.0003(valid)\t|\tAcc: 55.8%(valid)\n",
      "Epoch: 44  | time in 0 minutes, 2 seconds\n",
      "\tLoss: 0.0343(train)\t|\tAcc: 61.4%(train)\n",
      "\tLoss: 0.0003(valid)\t|\tAcc: 56.7%(valid)\n",
      "Epoch: 45  | time in 0 minutes, 2 seconds\n",
      "\tLoss: 0.0343(train)\t|\tAcc: 61.5%(train)\n",
      "\tLoss: 0.0003(valid)\t|\tAcc: 56.2%(valid)\n",
      "Epoch: 46  | time in 0 minutes, 2 seconds\n",
      "\tLoss: 0.0342(train)\t|\tAcc: 61.8%(train)\n",
      "\tLoss: 0.0003(valid)\t|\tAcc: 54.9%(valid)\n",
      "Epoch: 47  | time in 0 minutes, 2 seconds\n",
      "\tLoss: 0.0340(train)\t|\tAcc: 62.0%(train)\n",
      "\tLoss: 0.0003(valid)\t|\tAcc: 55.9%(valid)\n",
      "Epoch: 48  | time in 0 minutes, 2 seconds\n",
      "\tLoss: 0.0341(train)\t|\tAcc: 61.6%(train)\n",
      "\tLoss: 0.0003(valid)\t|\tAcc: 55.8%(valid)\n",
      "Epoch: 49  | time in 0 minutes, 2 seconds\n",
      "\tLoss: 0.0341(train)\t|\tAcc: 61.7%(train)\n",
      "\tLoss: 0.0003(valid)\t|\tAcc: 55.9%(valid)\n",
      "Epoch: 50  | time in 0 minutes, 2 seconds\n",
      "\tLoss: 0.0340(train)\t|\tAcc: 62.0%(train)\n",
      "\tLoss: 0.0003(valid)\t|\tAcc: 57.1%(valid)\n",
      "Epoch: 51  | time in 0 minutes, 2 seconds\n",
      "\tLoss: 0.0339(train)\t|\tAcc: 62.0%(train)\n",
      "\tLoss: 0.0003(valid)\t|\tAcc: 55.8%(valid)\n",
      "Epoch: 52  | time in 0 minutes, 2 seconds\n",
      "\tLoss: 0.0338(train)\t|\tAcc: 62.2%(train)\n",
      "\tLoss: 0.0003(valid)\t|\tAcc: 55.3%(valid)\n",
      "Epoch: 53  | time in 0 minutes, 2 seconds\n",
      "\tLoss: 0.0338(train)\t|\tAcc: 62.3%(train)\n",
      "\tLoss: 0.0003(valid)\t|\tAcc: 57.1%(valid)\n",
      "Epoch: 54  | time in 0 minutes, 2 seconds\n",
      "\tLoss: 0.0337(train)\t|\tAcc: 62.3%(train)\n",
      "\tLoss: 0.0003(valid)\t|\tAcc: 56.6%(valid)\n",
      "Epoch: 55  | time in 0 minutes, 2 seconds\n",
      "\tLoss: 0.0337(train)\t|\tAcc: 62.3%(train)\n",
      "\tLoss: 0.0003(valid)\t|\tAcc: 56.8%(valid)\n",
      "Epoch: 56  | time in 0 minutes, 2 seconds\n",
      "\tLoss: 0.0336(train)\t|\tAcc: 62.4%(train)\n",
      "\tLoss: 0.0004(valid)\t|\tAcc: 54.3%(valid)\n",
      "Epoch: 57  | time in 0 minutes, 2 seconds\n",
      "\tLoss: 0.0335(train)\t|\tAcc: 62.4%(train)\n",
      "\tLoss: 0.0003(valid)\t|\tAcc: 56.5%(valid)\n",
      "Epoch: 58  | time in 0 minutes, 2 seconds\n",
      "\tLoss: 0.0334(train)\t|\tAcc: 62.4%(train)\n",
      "\tLoss: 0.0003(valid)\t|\tAcc: 57.1%(valid)\n",
      "Epoch: 59  | time in 0 minutes, 2 seconds\n",
      "\tLoss: 0.0334(train)\t|\tAcc: 62.6%(train)\n",
      "\tLoss: 0.0003(valid)\t|\tAcc: 56.1%(valid)\n",
      "Epoch: 60  | time in 0 minutes, 2 seconds\n",
      "\tLoss: 0.0334(train)\t|\tAcc: 62.6%(train)\n",
      "\tLoss: 0.0003(valid)\t|\tAcc: 56.9%(valid)\n",
      "Epoch: 61  | time in 0 minutes, 2 seconds\n",
      "\tLoss: 0.0333(train)\t|\tAcc: 62.7%(train)\n",
      "\tLoss: 0.0003(valid)\t|\tAcc: 56.2%(valid)\n",
      "Epoch: 62  | time in 0 minutes, 2 seconds\n",
      "\tLoss: 0.0333(train)\t|\tAcc: 62.8%(train)\n",
      "\tLoss: 0.0003(valid)\t|\tAcc: 57.3%(valid)\n",
      "Epoch: 63  | time in 0 minutes, 2 seconds\n",
      "\tLoss: 0.0332(train)\t|\tAcc: 62.9%(train)\n",
      "\tLoss: 0.0003(valid)\t|\tAcc: 56.3%(valid)\n",
      "Epoch: 64  | time in 0 minutes, 2 seconds\n",
      "\tLoss: 0.0332(train)\t|\tAcc: 62.8%(train)\n",
      "\tLoss: 0.0004(valid)\t|\tAcc: 55.9%(valid)\n",
      "Epoch: 65  | time in 0 minutes, 2 seconds\n",
      "\tLoss: 0.0332(train)\t|\tAcc: 62.8%(train)\n",
      "\tLoss: 0.0003(valid)\t|\tAcc: 56.9%(valid)\n",
      "Epoch: 66  | time in 0 minutes, 2 seconds\n",
      "\tLoss: 0.0331(train)\t|\tAcc: 63.1%(train)\n",
      "\tLoss: 0.0003(valid)\t|\tAcc: 56.6%(valid)\n",
      "Epoch: 67  | time in 0 minutes, 2 seconds\n",
      "\tLoss: 0.0330(train)\t|\tAcc: 62.9%(train)\n",
      "\tLoss: 0.0003(valid)\t|\tAcc: 56.6%(valid)\n"
     ]
    },
    {
     "name": "stdout",
     "output_type": "stream",
     "text": [
      "Epoch: 68  | time in 0 minutes, 2 seconds\n",
      "\tLoss: 0.0330(train)\t|\tAcc: 63.1%(train)\n",
      "\tLoss: 0.0003(valid)\t|\tAcc: 57.2%(valid)\n",
      "Epoch: 69  | time in 0 minutes, 2 seconds\n",
      "\tLoss: 0.0330(train)\t|\tAcc: 63.2%(train)\n",
      "\tLoss: 0.0003(valid)\t|\tAcc: 56.7%(valid)\n",
      "Epoch: 70  | time in 0 minutes, 2 seconds\n",
      "\tLoss: 0.0329(train)\t|\tAcc: 63.3%(train)\n",
      "\tLoss: 0.0003(valid)\t|\tAcc: 56.4%(valid)\n",
      "Epoch: 71  | time in 0 minutes, 1 seconds\n",
      "\tLoss: 0.0329(train)\t|\tAcc: 63.2%(train)\n",
      "\tLoss: 0.0004(valid)\t|\tAcc: 56.8%(valid)\n",
      "Epoch: 72  | time in 0 minutes, 2 seconds\n",
      "\tLoss: 0.0329(train)\t|\tAcc: 63.4%(train)\n",
      "\tLoss: 0.0003(valid)\t|\tAcc: 57.3%(valid)\n",
      "Epoch: 73  | time in 0 minutes, 2 seconds\n",
      "\tLoss: 0.0328(train)\t|\tAcc: 63.4%(train)\n",
      "\tLoss: 0.0003(valid)\t|\tAcc: 56.4%(valid)\n",
      "Epoch: 74  | time in 0 minutes, 2 seconds\n",
      "\tLoss: 0.0328(train)\t|\tAcc: 63.3%(train)\n",
      "\tLoss: 0.0003(valid)\t|\tAcc: 56.7%(valid)\n",
      "Epoch: 75  | time in 0 minutes, 2 seconds\n",
      "\tLoss: 0.0328(train)\t|\tAcc: 63.5%(train)\n",
      "\tLoss: 0.0003(valid)\t|\tAcc: 57.2%(valid)\n",
      "Epoch: 76  | time in 0 minutes, 2 seconds\n",
      "\tLoss: 0.0327(train)\t|\tAcc: 63.4%(train)\n",
      "\tLoss: 0.0003(valid)\t|\tAcc: 57.2%(valid)\n",
      "Epoch: 77  | time in 0 minutes, 2 seconds\n",
      "\tLoss: 0.0327(train)\t|\tAcc: 63.3%(train)\n",
      "\tLoss: 0.0003(valid)\t|\tAcc: 56.9%(valid)\n",
      "Epoch: 78  | time in 0 minutes, 2 seconds\n",
      "\tLoss: 0.0327(train)\t|\tAcc: 63.5%(train)\n",
      "\tLoss: 0.0003(valid)\t|\tAcc: 56.6%(valid)\n",
      "Epoch: 79  | time in 0 minutes, 2 seconds\n",
      "\tLoss: 0.0326(train)\t|\tAcc: 63.6%(train)\n",
      "\tLoss: 0.0003(valid)\t|\tAcc: 56.5%(valid)\n",
      "Epoch: 80  | time in 0 minutes, 2 seconds\n",
      "\tLoss: 0.0326(train)\t|\tAcc: 63.8%(train)\n",
      "\tLoss: 0.0003(valid)\t|\tAcc: 56.9%(valid)\n"
     ]
    }
   ],
   "source": [
    "import time\n",
    "from torch.utils.data.dataset import random_split\n",
    "N_EPOCHS = 80\n",
    "min_valid_loss = float('inf')\n",
    "\n",
    "criterion = torch.nn.CrossEntropyLoss().to(device)\n",
    "optimizer = torch.optim.SGD(model.parameters(), lr=0.5)\n",
    "scheduler = torch.optim.lr_scheduler.StepLR(optimizer, 1, gamma=0.97)\n",
    "\n",
    "sub_train_, sub_valid_ = train_dataset, valid_dataset\n",
    "for epoch in range(N_EPOCHS):\n",
    "\n",
    "    start_time = time.time()\n",
    "    train_loss, train_acc = train_func(sub_train_)\n",
    "    valid_loss, valid_acc = test(sub_valid_)\n",
    "\n",
    "    secs = int(time.time() - start_time)\n",
    "    mins = secs / 60\n",
    "    secs = secs % 60\n",
    "\n",
    "    print('Epoch: %d' %(epoch + 1), \" | time in %d minutes, %d seconds\" %(mins, secs))\n",
    "    print(f'\\tLoss: {train_loss:.4f}(train)\\t|\\tAcc: {train_acc * 100:.1f}%(train)')\n",
    "    print(f'\\tLoss: {valid_loss:.4f}(valid)\\t|\\tAcc: {valid_acc * 100:.1f}%(valid)')"
   ]
  },
  {
   "cell_type": "code",
   "execution_count": 95,
   "metadata": {},
   "outputs": [
    {
     "data": {
      "text/plain": [
       "array([[ 6,  7],\n",
       "       [ 1,  5],\n",
       "       [10,  7],\n",
       "       [ 8,  6],\n",
       "       [10,  8],\n",
       "       [ 7,  4],\n",
       "       [ 6,  1],\n",
       "       [ 6,  1],\n",
       "       [10,  7],\n",
       "       [ 8,  1]])"
      ]
     },
     "execution_count": 95,
     "metadata": {},
     "output_type": "execute_result"
    }
   ],
   "source": [
    "predict(test_dataset)[1][:10, :2] "
   ]
  },
  {
   "cell_type": "markdown",
   "metadata": {},
   "source": [
    "## fastText"
   ]
  },
  {
   "cell_type": "code",
   "execution_count": 150,
   "metadata": {},
   "outputs": [],
   "source": [
    "def line_to_pairs(line: str) -> list:\n",
    "    return [line[i:i + 2] for i in range(0, len(line), 2)]\n",
    "\n",
    "def write_to_file(lines, file_name: str):\n",
    "    with open(file_name, 'w') as file:\n",
    "        for line in lines:\n",
    "            file.write(f\"{line}\\n\")"
   ]
  },
  {
   "cell_type": "code",
   "execution_count": 174,
   "metadata": {},
   "outputs": [],
   "source": [
    "train_file_data = pd.DataFrame(\n",
    "    {\n",
    "        'labels': y_train.astype(str), 'text': X_train\n",
    "    }\n",
    ")\n",
    "valid_file_data = pd.DataFrame(\n",
    "    {\n",
    "        'labels': y_valid.astype(str), 'text': X_valid\n",
    "    }\n",
    ")\n",
    "\n",
    "train_file_data['labels'].replace('([0-9]+)', '__label__\\\\1 ', regex=True, inplace=True)\n",
    "train_file_data['text'] = pd.Series([' '.join(line_to_pairs(line)) for line in train_file_data['text'].values])\n",
    "\n",
    "valid_file_data['labels'].replace('([0-9]+)', '__label__\\\\1 ', regex=True, inplace=True)\n",
    "valid_file_data['text'] = pd.Series([' '.join(line_to_pairs(line)) for line in valid_file_data['text'].values])"
   ]
  },
  {
   "cell_type": "code",
   "execution_count": 175,
   "metadata": {},
   "outputs": [],
   "source": [
    "train_file_data['data'] = train_file_data['labels'] + train_file_data['text']\n",
    "valid_file_data['data'] = valid_file_data['labels'] + valid_file_data['text'] "
   ]
  },
  {
   "cell_type": "code",
   "execution_count": 176,
   "metadata": {},
   "outputs": [],
   "source": [
    "write_to_file(train_file_data['data'].values, \"../data/train_ft.txt\")\n",
    "write_to_file(valid_file_data['data'].values, \"../data/valid_ft.txt\")"
   ]
  },
  {
   "cell_type": "code",
   "execution_count": 177,
   "metadata": {},
   "outputs": [
    {
     "name": "stdout",
     "output_type": "stream",
     "text": [
      "total 40M\r\n",
      "-rw-r--r-- 1 docker docker 4.3M Sep 24 13:04 train.csv\r\n",
      "-rw-r--r-- 1 docker docker  16M Sep 30 19:36 train_ft.txt\r\n",
      "-rw-r--r-- 1 docker docker 2.1M Sep 24 13:04 valid.csv\r\n",
      "-rw-r--r-- 1 docker docker 4.0M Sep 30 19:36 valid_ft.txt\r\n",
      "-rw-r--r-- 1 docker docker 1.2M Jul 19  2017 xtest_obfuscated.txt\r\n",
      "-rw-r--r-- 1 docker docker  13M Jul 19  2017 xtrain_obfuscated.txt\r\n",
      "-rw-r--r-- 1 docker docker 6.2K Sep 25 12:53 ytest.txt\r\n",
      "-rw-r--r-- 1 docker docker  68K Jul 19  2017 ytrain.txt\r\n"
     ]
    }
   ],
   "source": [
    "!ls -lh ../data"
   ]
  },
  {
   "cell_type": "code",
   "execution_count": 178,
   "metadata": {},
   "outputs": [
    {
     "name": "stdout",
     "output_type": "stream",
     "text": [
      "__label__7 oh sk mv en qv uh tw am uh ul en am ul uh qv ij ul en am ok uh ra qv le tw am ul en xe uh iw en ul mv mk uh xe pm uh xe xe kr ul qv uh iw en ul mv mk uh ul qv pm ez uh tw am ul uh xe pm uh tw sk en ez uh vi tw ez uh xe pm uh qv tw mk mv iw uh tw am ul uh ul qv en iw ul kr pm uh qv tw tw le ul uh sk en tw sk uh xe pm uh tw sk en ez uh qv gz mv am qv uh tw ez pm qv uh vi df pm vi uc uh tw mk ij ig uh sk vi en uh pk ul mv uh am ul mv df uh tw le en gz ez pm yp uh ul ij vi en yp uh ig uh ra sa en df uh sa le tw mk tw uh am qv tw iw xe uh tw mk mv iw uh sa ez uh xe pm uh le tw ul ul tw tv uh tw am ul\r\n",
      "__label__10 sk vi en uh qg ul mv uh xe xe pm uh ul qv kr sk uh tw am ul uh lr vi mv df pm iw tv uh sk vi en uh qg xe tw mv am yp le tw uc sk vi en am uh le tw am uh xe pm uh qv sk vi tw uh tw am ul uh am ul mv df uh gz kr uh ul mv uh lr vi mv am yp kr pm ul uh sk vi en uh qg qv le mv en ul qv bh gz kr uh tw ez en yp uh tw am qv uh vi tw am df uh ul tw vi vi pm tv uh qv ij lr vi mv iw le en sk uh le tw am uh xe xe pm uh lr vi mv uc en ul uh qg ez mv le lr uh sk vi en uh qg sk tw le uh sk vi en uh qg sk iw mv df uh ul mv tw tv iw en uh qg ul am lr mv qv uh ul vi en qv en tw iw gz uh en uh qv en df uh qv qv pm le mw uh qv qv mv qj\r\n",
      "__label__10 tw am uh tw iw mv am df uh sa iw vi pm uh qg sk vi en am uh ul xe tw iw uh qv mv am uh am ul mv df uh le tw iw xe xe kr ez uh qv mv am ul uh sk tw mk pm ez uh tw am uh qg uc vi mv le sk uh le pm xe uh sk tw gz gz pm ul qv uh tw am uh vi tw am ok uh ra qv tw tw vi uc uh qv ij le tw le en tw df uh tw am ul uh pm ul uh sa iw le en tw vi uh sk tw sk vi tw yp qv tw sk uh am yp mv am df uh qg ul en pm le am ul uh sk vi en uh vi mv am yp uh tw am ul uh le pm xe uh le tw iw xe xe kr ez uh ul en tw le lr uh en uh le tw mk pm uh sk vi en uh qg vi pm pm ul ul mv gz qv uh sk tw le tw vi le pm yp bh tw tw le am ul uh en\r\n",
      "__label__6 ul pm vi uh qv en df uh am yp mv am df uh qg le en tw ul uh en uh lr vi kr am uh am yp mv am df uh vi mv uh qg qv tw sa tw uh ul en tw le lr uh le tw am uh sk tw qv mv en le uh sk iw mv am yp uh tw am gu uh ds ra qv tw mk iw tw qv ez tw am ul uh tw qv kr ez en uh sa tw am ul uh pk sa en iw gz uh sa tw am gu uh ra qv le mv en xe xe en uh xe pm uh iw iw kr xe uh iw iw en uh qg ez tw am ul uh vi mv uh sk iw pm lr uh am ul mv df uh qv lr vi mv am ul uh pk qv iw iw pm sk uh iw kr xe mv ul kr en tw tv uh tw mk en am uh sa tw am ul ds uh qg sk iw mv am yp uh tw am ul uh sk mv en qv uh ds oa am yv ds\r\n"
     ]
    }
   ],
   "source": [
    "! head -n4 ../data/valid_ft.txt"
   ]
  },
  {
   "cell_type": "code",
   "execution_count": 179,
   "metadata": {},
   "outputs": [],
   "source": [
    "import fasttext"
   ]
  },
  {
   "cell_type": "code",
   "execution_count": 198,
   "metadata": {},
   "outputs": [],
   "source": [
    "model = fasttext.train_supervised('../data/train_ft.txt', ws=30, wordNgrams=1, verbose=5, loss='softmax')"
   ]
  },
  {
   "cell_type": "code",
   "execution_count": 199,
   "metadata": {},
   "outputs": [
    {
     "name": "stdout",
     "output_type": "stream",
     "text": [
      "N\t6503\n",
      "P@1\t0.408\n",
      "R@1\t0.408\n"
     ]
    }
   ],
   "source": [
    "def print_results(N, p, r):\n",
    "    print(\"N\\t\" + str(N))\n",
    "    print(\"P@{}\\t{:.3f}\".format(1, p))\n",
    "    print(\"R@{}\\t{:.3f}\".format(1, r))\n",
    "\n",
    "print_results(*model.test('../data/valid_ft.txt'))"
   ]
  },
  {
   "cell_type": "code",
   "execution_count": null,
   "metadata": {},
   "outputs": [],
   "source": []
  }
 ],
 "metadata": {
  "kernelspec": {
   "display_name": "Python 3",
   "language": "python",
   "name": "python3"
  },
  "language_info": {
   "codemirror_mode": {
    "name": "ipython",
    "version": 3
   },
   "file_extension": ".py",
   "mimetype": "text/x-python",
   "name": "python",
   "nbconvert_exporter": "python",
   "pygments_lexer": "ipython3",
   "version": "3.6.9"
  }
 },
 "nbformat": 4,
 "nbformat_minor": 4
}
