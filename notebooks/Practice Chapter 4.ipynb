{
 "cells": [
  {
   "cell_type": "code",
   "execution_count": 1,
   "metadata": {},
   "outputs": [],
   "source": [
    "import pyro\n",
    "import torch\n",
    "import numpy as np\n",
    "import matplotlib.pyplot as plt\n",
    "import seaborn as sns\n",
    "from typing import Tuple, Callable\n",
    "from collections import Counter\n",
    "from tqdm import tqdm\n",
    "\n",
    "sns.set_theme(style=\"darkgrid\")"
   ]
  },
  {
   "cell_type": "markdown",
   "metadata": {},
   "source": [
    "# Practice Chapter 4\n",
    "\n",
    "## Easy\n",
    "\n",
    "### 4E1\n",
    "\n",
    "In the model definition below, which line is the likelihood?\n",
    "```\n",
    "yi ∼ Normal(µ, σ)\n",
    "µ ∼ Normal(0, 10)\n",
    "σ ∼ Exponential(1)\n",
    "```"
   ]
  },
  {
   "cell_type": "code",
   "execution_count": null,
   "metadata": {},
   "outputs": [],
   "source": []
  },
  {
   "cell_type": "markdown",
   "metadata": {},
   "source": [
    "### 4E2\n",
    "\n",
    "In the model definition just above, how many parameters are in the posterior distribution?"
   ]
  },
  {
   "cell_type": "code",
   "execution_count": null,
   "metadata": {},
   "outputs": [],
   "source": []
  },
  {
   "cell_type": "markdown",
   "metadata": {},
   "source": [
    "### 4E3\n",
    "\n",
    "Using the model definition above, write down the appropriate form of Bayes’ theorem that includes the proper likelihood and priors."
   ]
  },
  {
   "cell_type": "code",
   "execution_count": null,
   "metadata": {},
   "outputs": [],
   "source": []
  },
  {
   "cell_type": "markdown",
   "metadata": {},
   "source": [
    "### 4E4\n",
    "\n",
    "In the model definition below, which line is the linear model?\n",
    "```\n",
    "yi ∼ Normal(µ, σ)\n",
    "µi = α + βxi α ∼ Normal(0, 10)\n",
    "β ∼ Normal(0, 1)\n",
    "σ ∼ Exponential(2)\n",
    "```"
   ]
  },
  {
   "cell_type": "code",
   "execution_count": null,
   "metadata": {},
   "outputs": [],
   "source": []
  },
  {
   "cell_type": "markdown",
   "metadata": {},
   "source": [
    "### 4E5\n",
    "\n",
    "In the model definition just above, how many parameters are in the posterior distribution?"
   ]
  },
  {
   "cell_type": "code",
   "execution_count": null,
   "metadata": {},
   "outputs": [],
   "source": []
  },
  {
   "cell_type": "markdown",
   "metadata": {},
   "source": [
    "## Medium\n",
    "\n",
    "### 4M1\n",
    "\n",
    "For the model definition below, simulate observed y values from the prior (not the posterior). \n",
    "```\n",
    "yi ∼ Normal(µ, σ)\n",
    "µ ∼ Normal(0, 10)\n",
    "σ ∼ Exponential(1)\n",
    "```"
   ]
  },
  {
   "cell_type": "code",
   "execution_count": null,
   "metadata": {},
   "outputs": [],
   "source": []
  },
  {
   "cell_type": "markdown",
   "metadata": {},
   "source": [
    "### 4M2\n",
    "\n",
    "Translate the model just above into a quap formula."
   ]
  },
  {
   "cell_type": "code",
   "execution_count": null,
   "metadata": {},
   "outputs": [],
   "source": []
  },
  {
   "cell_type": "markdown",
   "metadata": {},
   "source": [
    "### 4M3\n",
    "\n",
    "Translate the quap model formula below into a mathematical model definition.\n",
    "```\n",
    "flist <- alist(\n",
    "y ~ dnorm( mu , sigma ), mu <- a + b*x, a ~ dnorm( 0 , 10 ), b ~ dunif( 0 , 1 ), sigma ~ dexp( 1 )\n",
    ")\n",
    "```"
   ]
  },
  {
   "cell_type": "code",
   "execution_count": null,
   "metadata": {},
   "outputs": [],
   "source": []
  },
  {
   "cell_type": "markdown",
   "metadata": {},
   "source": [
    "### 4M4\n",
    "\n",
    "A sample of students is measured for height each year for 3 years. After the third year, you want to fit a linear regression predicting height using year as a predictor. Write down the mathematical model definition for this regression, using any variable names and priors you choose. Be prepared to defend your choice of priors."
   ]
  },
  {
   "cell_type": "code",
   "execution_count": null,
   "metadata": {},
   "outputs": [],
   "source": []
  },
  {
   "cell_type": "markdown",
   "metadata": {},
   "source": [
    "### 4M5\n",
    "\n",
    "Now suppose I remind you that every student got taller each year. Does this information lead you to change your choice ofpriors? How?"
   ]
  },
  {
   "cell_type": "code",
   "execution_count": null,
   "metadata": {},
   "outputs": [],
   "source": []
  },
  {
   "cell_type": "markdown",
   "metadata": {},
   "source": [
    "### 4M6\n",
    "\n",
    "Now suppose I tell you that the variance among heights for students of the same age is never more than 64cm. How does this lead you to revise your priors?"
   ]
  },
  {
   "cell_type": "code",
   "execution_count": null,
   "metadata": {},
   "outputs": [],
   "source": []
  },
  {
   "cell_type": "markdown",
   "metadata": {},
   "source": [
    "## Hard\n",
    "\n",
    "### 4H1\n",
    "\n",
    "The weights listed below were recorded in the !Kung census, but heights were not recorded for these individuals. Provide predicted heights and 89% intervals for each of these individuals. That is, fill in the table below, using model-based predictions.\n",
    "Individual\n",
    "\n",
    "\n",
    "Individual weight expected height 89% interval 1\n",
    "46.95\n",
    "2\n",
    "43.72\n",
    "3\n",
    "64.78\n",
    "4\n",
    "32.59\n",
    "5\n",
    "54.63"
   ]
  },
  {
   "cell_type": "code",
   "execution_count": null,
   "metadata": {},
   "outputs": [],
   "source": []
  },
  {
   "cell_type": "markdown",
   "metadata": {},
   "source": [
    "### 4H2\n",
    "\n",
    "Select out all the rows in the Howell1 data with ages below 18 years of age. If you do it right, you should end up with a new data frame with 192 rows in it.\n",
    "\n",
    "1. Fit a linear regression to these data, using quap. Present and interpret the estimates. For every 10 units of increase in weight, howmuch taller does the model predict a child gets?\n",
    "2. Plot the raw data, with height on the vertical axis and weight on the horizontal axis. Superimpose the MAP regression line and 89% interval for the mean. Also superimpose the 89% interval for predicted heights.\n",
    "3. What aspects of the model fit concern you? Describe the kinds of assumptions you would change, if any, to improve the model. You don’t have to write any new code. Just explain what the model appears to be doing a bad job of, and what you hypothesize would be a better model."
   ]
  },
  {
   "cell_type": "code",
   "execution_count": null,
   "metadata": {},
   "outputs": [],
   "source": []
  },
  {
   "cell_type": "markdown",
   "metadata": {},
   "source": [
    "### 4H3\n",
    "\n",
    "Suppose a colleague of yours, who works on allometry, glances at the practice problems just above. Your colleague exclaims, “That’s silly. Everyone knows that it’s only the logarithm of body weight that scales with height!” Let’s take your colleague’s advice and see what happens.\n",
    "\n",
    "1. Model the relationship between height (cm) and the natural logarithmofweight (log-kg). Use the entire Howell1 data frame, all 544 rows, adults and non-adults. Fit this model, using quadratic approximation:\n",
    "```\n",
    "hi ∼ Normal(µi, σ)\n",
    "µi = α + β log(wi)\n",
    "α ∼ Normal(178, 20)\n",
    "β ∼ Log − Normal(0, 1)\n",
    "σ ∼ Uniform(0, 50)\n",
    "```\n",
    "where hi is the height of individual i and wi is the weight (in kg) of individual i. The function for computing a natural log in R is just log. Can you interpret the resulting estimates?\n",
    "2. Begin with this plot:\n",
    "```\n",
    "plot( height ~ weight , data=Howell1 , col=col.alpha(rangi2,0.4) )\n",
    "```\n",
    "Then use samples from the quadratic approximate posterior of the model in 1. to superimpose on the plot: (1) the predictedmean height as a function ofweight, (2) the 97% interval for the mean, and (3) the 97% interval for predicted heights."
   ]
  },
  {
   "cell_type": "code",
   "execution_count": null,
   "metadata": {},
   "outputs": [],
   "source": []
  },
  {
   "cell_type": "markdown",
   "metadata": {},
   "source": [
    "### 4H4\n",
    "\n",
    "Plot the prior predictive distribution for the polynomial regression model in the chapter. You can modify the code that plots the linear regression prior predictive distribution. Can you modify the prior distributions of α, β1, and β2 so that the prior predictions stay within the biologically reasonable outcome space? That is to say: Do not try to fit the data by hand. But do try to keep the curves consistent with what you know about height and weight, before seeing these exact data."
   ]
  },
  {
   "cell_type": "code",
   "execution_count": null,
   "metadata": {},
   "outputs": [],
   "source": []
  }
 ],
 "metadata": {
  "kernelspec": {
   "display_name": "Python 3",
   "language": "python",
   "name": "python3"
  },
  "language_info": {
   "codemirror_mode": {
    "name": "ipython",
    "version": 3
   },
   "file_extension": ".py",
   "mimetype": "text/x-python",
   "name": "python",
   "nbconvert_exporter": "python",
   "pygments_lexer": "ipython3",
   "version": "3.6.9"
  }
 },
 "nbformat": 4,
 "nbformat_minor": 4
}
