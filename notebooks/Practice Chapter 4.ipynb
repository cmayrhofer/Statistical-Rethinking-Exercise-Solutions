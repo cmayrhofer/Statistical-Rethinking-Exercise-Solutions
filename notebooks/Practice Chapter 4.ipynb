{
 "cells": [
  {
   "cell_type": "code",
   "execution_count": 1,
   "metadata": {},
   "outputs": [],
   "source": [
    "import pyro\n",
    "import torch\n",
    "import numpy as np\n",
    "import matplotlib.pyplot as plt\n",
    "import seaborn as sns\n",
    "from typing import Tuple, Callable\n",
    "from collections import Counter\n",
    "from tqdm import tqdm\n",
    "\n",
    "sns.set_theme(style=\"darkgrid\")"
   ]
  },
  {
   "cell_type": "markdown",
   "metadata": {},
   "source": [
    "# Practice Chapter 4\n",
    "\n",
    "## Easy\n",
    "\n",
    "4E1. In the model definition below, which line is the likelihood? yi ∼ Normal(µ, σ) µ ∼ Normal(0, 10) σ ∼ Exponential(1)\n",
    "4E2. In the model definition just above, howmany parameters are in the posterior distribution?\n",
    "\n",
    "4E3. Using the model definition above, write down the appropriate form of Bayes’ theorem that includes the proper likelihood and priors.\n",
    "4E4. In the model definition below, which line is the linear model? yi ∼ Normal(µ, σ) µi = α + βxi α ∼ Normal(0, 10) β ∼ Normal(0, 1) σ ∼ Exponential(2)\n",
    "4E5. In the model definition just above, howmany parameters are in the posterior distribution? Medium. 4M1. For the model definition below, simulate observed y values from the prior (not the posterior). yi ∼ Normal(µ, σ) µ ∼ Normal(0, 10) σ ∼ Exponential(1)\n",
    "4M2. Translate the model just above into a quap formula. 4M3.\n",
    "\n",
    "4M3. Translate the quap model formula below into a mathematical model definition. flist <- alist(\n",
    "y ~ dnorm( mu , sigma ), mu <- a + b*x, a ~ dnorm( 0 , 10 ), b ~ dunif( 0 , 1 ), sigma ~ dexp( 1 )\n",
    ")\n",
    "4M4. A sample ofstudents ismeasured for height each year for 3 years. After the third year, you want to fit a linear regression predicting height using year as a predictor. Write down the mathematical model definition for this regression, using any variable names and priors you choose. Be prepared to defend your choice ofpriors.\n",
    "4M5. Now suppose I remind you that every student got taller each year. Does this information lead you to change your choice ofpriors? How?\n",
    "4M6. Now suppose I tell you that the variance among heights for students of the same age is never more than 64cm. How does this lead you to revise your priors? Hard.\n",
    "4H1. The weights listed belowwere recorded in the !Kung census, but heights were not recorded for these individuals. Provide predicted heights and 89% intervals for each of these individuals. That is, fill in the table below, using model-based predictions.\n",
    "Individual\n",
    "\n",
    "\n",
    "Individual weight expected height 89% interval 1\n",
    "46.95\n",
    "2\n",
    "43.72\n",
    "3\n",
    "64.78\n",
    "4\n",
    "32.59\n",
    "5\n",
    "54.63\n",
    "\n",
    "\n",
    "4H2. Select out all the rows in the Howell1 data with ages below 18 years of age. If you do it right, you should end up with a new data frame with 192 rows in it.\n",
    "(a) Fit a linear regression to these data, using quap. Present and interpret the estimates. For\n",
    "every 10 units of increase in weight, howmuch taller does the model predict a child gets? (b) Plot the raw data, with height on the vertical axis and weight on the horizontal axis. Super-\n",
    "impose the MAP regression line and 89% interval for the mean. Also superimpose the 89% interval for predicted heights.\n",
    "(c) What aspects of the model fit concern you? Describe the kinds of assumptions you would\n",
    "change, if any, to improve the model. You don’t have to write any new code. Just explain what the model appears to be doing a bad job of, and what you hypothesize would be a better model.\n",
    "4H3. Suppose a colleague of yours, who works on allometry, glances at the practice problems just above. Your colleague exclaims, “That’s silly. Everyone knows that it’s only the logarithm of body weight that scales with height!” Let’s take your colleague’s advice and see what happens.\n",
    "(a)Model\n",
    "\n",
    "(a)Model the relationship between height (cm) and the natural logarithmofweight (log-kg). Use\n",
    "the entire Howell1 data frame, all 544 rows, adults and non-adults. Fit this model, using quadratic approximation:\n",
    "hi ∼ Normal(µi, σ) µi = α + β log(wi) α ∼ Normal(178, 20) β ∼ Log − Normal(0, 1) σ ∼ Uniform(0, 50)\n",
    "where hi is the height of individual i and wi is the weight (in kg) of individual i. The function for computing a natural log in R is just log. Can you interpret the resulting estimates?\n",
    "(b) Begin with this plot:\n",
    "plot( height ~ weight , data=Howell1 , col=col.alpha(rangi2,0.4) )\n",
    "R code 4.80\n",
    "Then use samples from the quadratic approximate posterior of the model in (a) to superimpose on the plot: (1) the predictedmean height as a function ofweight, (2) the 97% interval for the mean, and (3) the 97% interval for predicted heights.\n",
    "4H4. Plot the prior predictive distribution for the polynomial regression model in the chapter. You canmodify the code that plots the linear regression prior predictive distribution. Can youmodify the prior distributions ofα, β1, and β2 so that the prior predictions staywithin the biologically reasonable outcome space? That is to say: Do not try to fit the data by hand. But do try to keep the curves consistent with what you know about height and weight, before seeing these exact data."
   ]
  }
 ],
 "metadata": {
  "kernelspec": {
   "display_name": "Python 3",
   "language": "python",
   "name": "python3"
  },
  "language_info": {
   "codemirror_mode": {
    "name": "ipython",
    "version": 3
   },
   "file_extension": ".py",
   "mimetype": "text/x-python",
   "name": "python",
   "nbconvert_exporter": "python",
   "pygments_lexer": "ipython3",
   "version": "3.6.9"
  }
 },
 "nbformat": 4,
 "nbformat_minor": 4
}
