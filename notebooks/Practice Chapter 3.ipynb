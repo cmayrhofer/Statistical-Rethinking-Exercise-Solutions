{
 "cells": [
  {
   "cell_type": "code",
   "execution_count": 1,
   "metadata": {},
   "outputs": [],
   "source": [
    "import pyro\n",
    "import torch\n",
    "import numpy as np\n",
    "from collections import Counter\n",
    "import matplotlib.pyplot as plt\n",
    "import seaborn as sns\n",
    "\n",
    "sns.set_theme(style=\"darkgrid\")"
   ]
  },
  {
   "cell_type": "markdown",
   "metadata": {},
   "source": [
    "# Practice Chapter 3\n",
    "\n",
    "## Easy\n",
    "\n",
    "These problems use the samples from the posterior distribution for the globe tossing example. This code will give you a specific set of samples, so that you can check your answers exactly.\n",
    "```\n",
    "p_grid <- seq( from=0 , to=1 , length.out=1000 )\n",
    "prior <- rep( 1 , 1000 )\n",
    "likelihood <- dbinom( 6 , size=9 , prob=p_grid )\n",
    "posterior <- likelihood * prior\n",
    "posterior <- posterior / sum(posterior)\n",
    "set.seed(100)\n",
    "samples <- sample( p_grid , prob=posterior , size=1e4 , replace=TRUE )\n",
    "```\n",
    "Use the values in samples to answer the questions that follow.\n",
    "\n",
    "### 3E1\n",
    "\n",
    "How much posterior probability lies below p = 0.2?"
   ]
  },
  {
   "cell_type": "code",
   "execution_count": null,
   "metadata": {},
   "outputs": [],
   "source": []
  },
  {
   "cell_type": "markdown",
   "metadata": {},
   "source": [
    "### 3E2\n",
    "\n",
    "How much posterior probability lies above p = 0.8?"
   ]
  },
  {
   "cell_type": "code",
   "execution_count": null,
   "metadata": {},
   "outputs": [],
   "source": []
  },
  {
   "cell_type": "markdown",
   "metadata": {},
   "source": [
    "### 3E3\n",
    "\n",
    "How much posterior probability lies between p = 0.2 and p = 0.8?"
   ]
  },
  {
   "cell_type": "code",
   "execution_count": null,
   "metadata": {},
   "outputs": [],
   "source": []
  },
  {
   "cell_type": "markdown",
   "metadata": {},
   "source": [
    "### 3E4\n",
    "\n",
    "20% of the posterior probability lies below which value of p?"
   ]
  },
  {
   "cell_type": "code",
   "execution_count": null,
   "metadata": {},
   "outputs": [],
   "source": []
  },
  {
   "cell_type": "markdown",
   "metadata": {},
   "source": [
    "### 3E5\n",
    "20% of the posterior probability lies above which value of p?"
   ]
  },
  {
   "cell_type": "code",
   "execution_count": null,
   "metadata": {},
   "outputs": [],
   "source": []
  },
  {
   "cell_type": "markdown",
   "metadata": {},
   "source": [
    "### 3E6\n",
    "\n",
    "Which values of p contain the narrowest interval equal to 66% of the posterior probability?"
   ]
  },
  {
   "cell_type": "code",
   "execution_count": null,
   "metadata": {},
   "outputs": [],
   "source": []
  },
  {
   "cell_type": "markdown",
   "metadata": {},
   "source": [
    "### 3E7\n",
    "\n",
    "Which values ofp contain 66% of the posterior probability, assuming equal posterior probabil- ity both below and above the interval?"
   ]
  },
  {
   "cell_type": "code",
   "execution_count": null,
   "metadata": {},
   "outputs": [],
   "source": []
  },
  {
   "cell_type": "markdown",
   "metadata": {},
   "source": [
    "## Medium\n",
    "\n",
    "### 3M1\n",
    "Suppose the globe tossing data had turned out to be 8 water in 15 tosses. Construct the poste- rior distribution, using grid approximation. Use the same flat prior as before."
   ]
  },
  {
   "cell_type": "code",
   "execution_count": null,
   "metadata": {},
   "outputs": [],
   "source": []
  },
  {
   "cell_type": "markdown",
   "metadata": {},
   "source": [
    "3M2. Draw 10,000 samples from the grid approximation from above. Then use the samples to cal- culate the 90% HPDI for p.\n",
    "3M3. Construct a posterior predictive check for this model and data. This means simulate the distri- bution ofsamples, averaging over the posterior uncertainty in p. What is the probability ofobserving 8 water in 15 tosses?\n",
    "3M4. Using the posterior distribution constructed from the new (8/15) data, now calculate the prob- ability ofobserving 6 water in 9 tosses.\n",
    "3M5. Start over at 3M1, but nowuse a prior that is zero belowp = 0.5 and a constant above p = 0.5. This corresponds to prior information that a majority of the Earth’s surface is water. Repeat each problem above and compare the inferences. What difference does the better prior make? If it helps, compare inferences (using both priors) to the true value p = 0.7.\n",
    "\n",
    "3M6. Suppose you want to estimate the Earth’s proportion of water very precisely. Specifically, you want the 99% percentile interval of the posterior distribution of p to be only 0.05 wide. This means the distance between the upper and lower bound ofthe interval should be 0.05. Howmany times will you have to toss the globe to do this?\n",
    "Hard.\n",
    "Introduction. The practice problems here all use the data below. These data indicate the gender (male=1, female=0) ofofficially reported first and second born children in 100 two-child families.\n",
    "R code 3.28 birth1 <- c(1,0,0,0,1,1,0,1,0,1,0,0,1,1,0,1,1,0,0,0,1,0,0,0,1,0, 0,0,0,1,1,1,0,1,0,1,1,1,0,1,0,1,1,0,1,0,0,1,1,0,1,0,0,0,0,0,0,0, 1,1,0,1,0,0,1,0,0,0,1,0,0,1,1,1,1,0,1,0,1,1,1,1,1,0,0,1,0,1,1,0, 1,0,1,1,1,0,1,1,1,1) birth2 <- c(0,1,0,1,0,1,1,1,0,0,1,1,1,1,1,0,0,1,1,1,0,0,1,1,1,0, 1,1,1,0,1,1,1,0,1,0,0,1,1,1,1,0,0,1,0,1,1,1,1,1,1,1,1,1,1,1,1,1, 1,1,1,0,1,1,0,1,1,0,1,1,1,0,0,0,0,0,0,1,0,0,0,1,1,0,0,1,0,0,1,1, 0,0,0,1,1,1,0,0,0,0)\n",
    "So for example, the first family in the data reported a boy (1) and then a girl (0). The second family reported a girl (0) and then a boy (1). The third family reported two girls. You can load these two vectors into R’s memory by typing:\n",
    "R code 3.29 library(rethinking) data(homeworkch3)\n",
    "Use\n",
    "\n",
    "Use these vectors as data. So for example to compute the total number ofboys born across all ofthese births, you could use:\n",
    "R code 3.30 sum(birth1) + sum(birth2)\n",
    "[1] 111\n",
    "3H1. Using grid approximation, compute the posterior distribution for the probability of a birth being a boy. Assume a uniform prior probability. Which parameter value maximizes the posterior probability?\n",
    "3H2. Using the sample function, draw 10,000 random parameter values from the posterior distri- bution you calculated above. Use these samples to estimate the 50%, 89%, and 97% highest posterior density intervals.\n",
    "3H3. Use rbinom to simulate 10,000 replicates of 200 births. You should end up with 10,000 num- bers, each one a count of boys out of 200 births. Compare the distribution of predicted numbers of boys to the actual count in the data (111 boys out of 200 births). There are many good ways to visualize the simulations, but the dens command (part of the rethinking package) is probably the easiest way in this case. Does it look like the model fits the data well? That is, does the distribution ofpredictions include the actual observation as a central, likely outcome?\n",
    "3H4. Nowcompare 10,000 counts ofboys from100 simulated first borns only to the number ofboys in the first births, birth1. How does the model look in this light?\n",
    "\n",
    "3H5. The model assumes that sex of first and second births are independent. To check this assump- tion, focus now on second births that followed female first borns. Compare 10,000 simulated counts of boys to only those second births that followed girls. To do this correctly, you need to count the number of first borns who were girls and simulate that many births, 10,000 times. Compare the counts ofboys in your simulations to the actual observed count ofboys following girls. How does the model look in this light? Any guesses what is going on in these data?"
   ]
  },
  {
   "cell_type": "code",
   "execution_count": null,
   "metadata": {},
   "outputs": [],
   "source": []
  }
 ],
 "metadata": {
  "kernelspec": {
   "display_name": "Python 3",
   "language": "python",
   "name": "python3"
  },
  "language_info": {
   "codemirror_mode": {
    "name": "ipython",
    "version": 3
   },
   "file_extension": ".py",
   "mimetype": "text/x-python",
   "name": "python",
   "nbconvert_exporter": "python",
   "pygments_lexer": "ipython3",
   "version": "3.6.9"
  }
 },
 "nbformat": 4,
 "nbformat_minor": 4
}
